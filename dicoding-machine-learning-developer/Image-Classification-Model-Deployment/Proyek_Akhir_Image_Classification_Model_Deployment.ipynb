{
  "nbformat": 4,
  "nbformat_minor": 0,
  "metadata": {
    "colab": {
      "provenance": []
    },
    "kernelspec": {
      "name": "python3",
      "display_name": "Python 3"
    },
    "language_info": {
      "name": "python"
    },
    "accelerator": "GPU",
    "gpuClass": "standard"
  },
  "cells": [
    {
      "cell_type": "markdown",
      "source": [
        "# Data Diri\n",
        "### **Nama** : \n",
        "Lutfi Fajri Akbar\n",
        "### **No. Register** :\n",
        "1494037162101-2551\n",
        "### **Username Dicoding**:\n",
        "lutfifajri02\n",
        "### **E-mail**:\n",
        "ltfffajri@gmail.com"
      ],
      "metadata": {
        "id": "HH1pmp5y7iWs"
      }
    },
    {
      "cell_type": "markdown",
      "source": [
        "# Data Acquisition From Kaggle"
      ],
      "metadata": {
        "id": "NDFISYZ-FhWU"
      }
    },
    {
      "cell_type": "code",
      "execution_count": 1,
      "metadata": {
        "colab": {
          "base_uri": "https://localhost:8080/"
        },
        "id": "b1SqSzvr7Cu0",
        "outputId": "12aef95c-d04d-4929-c47d-590028b65068"
      },
      "outputs": [
        {
          "output_type": "stream",
          "name": "stdout",
          "text": [
            "Looking in indexes: https://pypi.org/simple, https://us-python.pkg.dev/colab-wheels/public/simple/\n",
            "Requirement already satisfied: Kaggle in /usr/local/lib/python3.7/dist-packages (1.5.12)\n",
            "Requirement already satisfied: six>=1.10 in /usr/local/lib/python3.7/dist-packages (from Kaggle) (1.15.0)\n",
            "Requirement already satisfied: urllib3 in /usr/local/lib/python3.7/dist-packages (from Kaggle) (1.24.3)\n",
            "Requirement already satisfied: tqdm in /usr/local/lib/python3.7/dist-packages (from Kaggle) (4.64.1)\n",
            "Requirement already satisfied: python-slugify in /usr/local/lib/python3.7/dist-packages (from Kaggle) (6.1.2)\n",
            "Requirement already satisfied: certifi in /usr/local/lib/python3.7/dist-packages (from Kaggle) (2022.9.24)\n",
            "Requirement already satisfied: requests in /usr/local/lib/python3.7/dist-packages (from Kaggle) (2.23.0)\n",
            "Requirement already satisfied: python-dateutil in /usr/local/lib/python3.7/dist-packages (from Kaggle) (2.8.2)\n",
            "Requirement already satisfied: text-unidecode>=1.3 in /usr/local/lib/python3.7/dist-packages (from python-slugify->Kaggle) (1.3)\n",
            "Requirement already satisfied: chardet<4,>=3.0.2 in /usr/local/lib/python3.7/dist-packages (from requests->Kaggle) (3.0.4)\n",
            "Requirement already satisfied: idna<3,>=2.5 in /usr/local/lib/python3.7/dist-packages (from requests->Kaggle) (2.10)\n"
          ]
        }
      ],
      "source": [
        "!pip install Kaggle\n",
        "!mkdir ~/.kaggle"
      ]
    },
    {
      "cell_type": "code",
      "source": [
        "! cp kaggle.json ~/.kaggle/\n",
        "! chmod 600 ~/.kaggle/kaggle.json"
      ],
      "metadata": {
        "id": "AcjNL_GCFqg-"
      },
      "execution_count": 2,
      "outputs": []
    },
    {
      "cell_type": "code",
      "source": [
        "!kaggle datasets download -d alessiocorrado99/animals10"
      ],
      "metadata": {
        "colab": {
          "base_uri": "https://localhost:8080/"
        },
        "id": "lKehIIRGFxjE",
        "outputId": "01e12c9b-da2e-4346-cf4c-33771d685595"
      },
      "execution_count": 3,
      "outputs": [
        {
          "output_type": "stream",
          "name": "stdout",
          "text": [
            "Downloading animals10.zip to /content\n",
            " 96% 562M/586M [00:02<00:00, 185MB/s]\n",
            "100% 586M/586M [00:02<00:00, 219MB/s]\n"
          ]
        }
      ]
    },
    {
      "cell_type": "markdown",
      "source": [
        "# Extract Dataset "
      ],
      "metadata": {
        "id": "Fz-3PoBFGFZK"
      }
    },
    {
      "cell_type": "code",
      "source": [
        "import zipfile, os\n",
        "\n",
        "local_zip = '/content/animals10.zip'\n",
        "zip_ref = zipfile.ZipFile(local_zip, 'r')\n",
        "zip_ref.extractall('/content')\n",
        "zip_ref.close()"
      ],
      "metadata": {
        "id": "StZzkEHqF31B"
      },
      "execution_count": 4,
      "outputs": []
    },
    {
      "cell_type": "markdown",
      "source": [
        "# Cek Label Yang Dimiliki Dataset"
      ],
      "metadata": {
        "id": "Wa4DiHptHupd"
      }
    },
    {
      "cell_type": "code",
      "source": [
        "training_dir = os.path.join('/content/raw-img')"
      ],
      "metadata": {
        "id": "LIUxdBsVEYqI"
      },
      "execution_count": 5,
      "outputs": []
    },
    {
      "cell_type": "code",
      "source": [
        "print(os.listdir(training_dir))\n",
        "# Terjemahan Label = \"cane\": \"dog\", \"cavallo\": \"horse\", \"elefante\": \"elephant\", \"farfalla\": \"butterfly\", \"gallina\": \"chicken\", \"gatto\": \"cat\", \"mucca\": \"cow\", \"pecora\": \"sheep\", \"scoiattolo\": \"squirrel\", \"dog\": \"cane\", \"cavallo\": \"horse\", \"elephant\" : \"elefante\", \"butterfly\": \"farfalla\", \"chicken\": \"gallina\", \"cat\": \"gatto\", \"cow\": \"mucca\", \"spider\": \"ragno\", \"squirrel\": \"scoiattolo\""
      ],
      "metadata": {
        "colab": {
          "base_uri": "https://localhost:8080/"
        },
        "id": "CqJ7IjhaGW1c",
        "outputId": "e4bf6960-db56-4463-c9e4-2b0f9cb40581"
      },
      "execution_count": 6,
      "outputs": [
        {
          "output_type": "stream",
          "name": "stdout",
          "text": [
            "['cane', 'gallina', 'ragno', 'cavallo', 'scoiattolo', 'elefante', 'mucca', 'gatto', 'farfalla', 'pecora']\n"
          ]
        }
      ]
    },
    {
      "cell_type": "markdown",
      "source": [
        "# Menghapus Beberapa Folder Label"
      ],
      "metadata": {
        "id": "wbvLEmkOBjVg"
      }
    },
    {
      "cell_type": "code",
      "source": [
        "import shutil\n",
        "\n",
        "useless_folder = ['cane', 'cavallo', 'scoiattolo', 'mucca', 'gatto', 'pecora']\n",
        "\n",
        "for x in useless_folder:\n",
        "  path = os.path.join(training_dir, x)\n",
        "  shutil.rmtree(path)"
      ],
      "metadata": {
        "id": "6HD0lqT6BqtA"
      },
      "execution_count": 7,
      "outputs": []
    },
    {
      "cell_type": "code",
      "source": [
        "print(os.listdir(training_dir))"
      ],
      "metadata": {
        "colab": {
          "base_uri": "https://localhost:8080/"
        },
        "id": "dumfpZKEFICx",
        "outputId": "5e8ed515-826e-4360-99df-a1a390c3b0b9"
      },
      "execution_count": 8,
      "outputs": [
        {
          "output_type": "stream",
          "name": "stdout",
          "text": [
            "['gallina', 'ragno', 'elefante', 'farfalla']\n"
          ]
        }
      ]
    },
    {
      "cell_type": "markdown",
      "source": [
        "# Image Augmentation"
      ],
      "metadata": {
        "id": "axek9DSYICG7"
      }
    },
    {
      "cell_type": "code",
      "source": [
        "from tensorflow.keras.preprocessing.image import ImageDataGenerator\n",
        "\n",
        "training_datagen = ImageDataGenerator(rescale = 1./255,\n",
        "                                      rotation_range = 20,\n",
        "                                      zoom_range = 0.2,\n",
        "                                      shear_range = 0.2,\n",
        "                                      horizontal_flip = True,\n",
        "                                      fill_mode = 'nearest',\n",
        "                                      validation_split = 0.2)\n",
        "\n",
        "validation_datagen = ImageDataGenerator(rescale = 1./255,\n",
        "                                        validation_split = 0.2) "
      ],
      "metadata": {
        "id": "dnz_45w8HSby"
      },
      "execution_count": 9,
      "outputs": []
    },
    {
      "cell_type": "code",
      "source": [
        "training_generator = training_datagen.flow_from_directory(training_dir,\n",
        "                                                          target_size = (150,150),\n",
        "                                                          batch_size = 32,\n",
        "                                                          class_mode = 'categorical',\n",
        "                                                          subset = 'training')"
      ],
      "metadata": {
        "colab": {
          "base_uri": "https://localhost:8080/"
        },
        "id": "rh8FnvuJIKB7",
        "outputId": "9d967c02-24e6-4d62-d29c-4dc58306e623"
      },
      "execution_count": 10,
      "outputs": [
        {
          "output_type": "stream",
          "name": "stdout",
          "text": [
            "Found 9183 images belonging to 4 classes.\n"
          ]
        }
      ]
    },
    {
      "cell_type": "code",
      "source": [
        "validation_generator = validation_datagen.flow_from_directory(training_dir,\n",
        "                                                              target_size = (150,150),\n",
        "                                                              batch_size = 32,\n",
        "                                                              class_mode = 'categorical',\n",
        "                                                              subset = 'validation')"
      ],
      "metadata": {
        "colab": {
          "base_uri": "https://localhost:8080/"
        },
        "id": "UhDhSmpRLOUB",
        "outputId": "56247b81-f55e-4a1b-9bd7-2c0d54ab797c"
      },
      "execution_count": 11,
      "outputs": [
        {
          "output_type": "stream",
          "name": "stdout",
          "text": [
            "Found 2294 images belonging to 4 classes.\n"
          ]
        }
      ]
    },
    {
      "cell_type": "markdown",
      "source": [
        "# Modelling"
      ],
      "metadata": {
        "id": "LxKDbEQRLvHR"
      }
    },
    {
      "cell_type": "code",
      "source": [
        "import tensorflow as tf\n",
        "\n",
        "model = tf.keras.models.Sequential([\n",
        "    tf.keras.layers.Conv2D(64, (3,3), activation='relu', input_shape=(150, 150, 3)),\n",
        "    tf.keras.layers.MaxPooling2D(2, 2),\n",
        "    tf.keras.layers.Conv2D(64, (3,3), activation='relu'),\n",
        "    tf.keras.layers.MaxPooling2D(2,2),\n",
        "    tf.keras.layers.Conv2D(128, (3,3), activation='relu'),\n",
        "    tf.keras.layers.MaxPooling2D(2,2),\n",
        "    tf.keras.layers.Conv2D(128, (3,3), activation='relu'),\n",
        "    tf.keras.layers.MaxPooling2D(2,2),\n",
        "    tf.keras.layers.Dropout(0.5),\n",
        "    tf.keras.layers.Flatten(),\n",
        "    tf.keras.layers.Dense(512, activation='relu'),\n",
        "    tf.keras.layers.Dense(4, activation='softmax')\n",
        "])"
      ],
      "metadata": {
        "id": "99Qv-LHwLhoO"
      },
      "execution_count": 12,
      "outputs": []
    },
    {
      "cell_type": "code",
      "source": [
        "model.summary()"
      ],
      "metadata": {
        "colab": {
          "base_uri": "https://localhost:8080/"
        },
        "id": "a4mNVN3-MNtW",
        "outputId": "3a50d5c1-d52e-478b-8edd-0d839c11e6fe"
      },
      "execution_count": 13,
      "outputs": [
        {
          "output_type": "stream",
          "name": "stdout",
          "text": [
            "Model: \"sequential\"\n",
            "_________________________________________________________________\n",
            " Layer (type)                Output Shape              Param #   \n",
            "=================================================================\n",
            " conv2d (Conv2D)             (None, 148, 148, 64)      1792      \n",
            "                                                                 \n",
            " max_pooling2d (MaxPooling2D  (None, 74, 74, 64)       0         \n",
            " )                                                               \n",
            "                                                                 \n",
            " conv2d_1 (Conv2D)           (None, 72, 72, 64)        36928     \n",
            "                                                                 \n",
            " max_pooling2d_1 (MaxPooling  (None, 36, 36, 64)       0         \n",
            " 2D)                                                             \n",
            "                                                                 \n",
            " conv2d_2 (Conv2D)           (None, 34, 34, 128)       73856     \n",
            "                                                                 \n",
            " max_pooling2d_2 (MaxPooling  (None, 17, 17, 128)      0         \n",
            " 2D)                                                             \n",
            "                                                                 \n",
            " conv2d_3 (Conv2D)           (None, 15, 15, 128)       147584    \n",
            "                                                                 \n",
            " max_pooling2d_3 (MaxPooling  (None, 7, 7, 128)        0         \n",
            " 2D)                                                             \n",
            "                                                                 \n",
            " dropout (Dropout)           (None, 7, 7, 128)         0         \n",
            "                                                                 \n",
            " flatten (Flatten)           (None, 6272)              0         \n",
            "                                                                 \n",
            " dense (Dense)               (None, 512)               3211776   \n",
            "                                                                 \n",
            " dense_1 (Dense)             (None, 4)                 2052      \n",
            "                                                                 \n",
            "=================================================================\n",
            "Total params: 3,473,988\n",
            "Trainable params: 3,473,988\n",
            "Non-trainable params: 0\n",
            "_________________________________________________________________\n"
          ]
        }
      ]
    },
    {
      "cell_type": "code",
      "source": [
        "model.compile(loss='categorical_crossentropy',\n",
        "              optimizer=tf.optimizers.Adam(),\n",
        "              metrics=['accuracy'])"
      ],
      "metadata": {
        "id": "abdpmYg_MPu5"
      },
      "execution_count": 14,
      "outputs": []
    },
    {
      "cell_type": "markdown",
      "source": [
        "# Definisikan Fungsi Callback"
      ],
      "metadata": {
        "id": "HmR6ETeVMfU2"
      }
    },
    {
      "cell_type": "code",
      "source": [
        "class myCallback(tf.keras.callbacks.Callback):\n",
        "  def on_epoch_end(self, epoch, logs={}):\n",
        "    if(logs.get('accuracy')>0.92 and logs.get('val_accuracy')>0.92):\n",
        "      print(\"\\n Model telah mencapai akurasi >92% dan validasi akurasi >92%\")\n",
        "      self.model.stop_training = True\n",
        "\n",
        "callback_model = myCallback()"
      ],
      "metadata": {
        "id": "LecFstBOMdNG"
      },
      "execution_count": 15,
      "outputs": []
    },
    {
      "cell_type": "markdown",
      "source": [
        "# Training Model"
      ],
      "metadata": {
        "id": "AnN-OXe-Mue1"
      }
    },
    {
      "cell_type": "code",
      "source": [
        "riwayat_training_model = model.fit(training_generator,\n",
        "                                   epochs=100,\n",
        "                                   validation_data=validation_generator,\n",
        "                                   callbacks=[callback_model],\n",
        "                                   verbose=2)"
      ],
      "metadata": {
        "id": "xxYZ2TdsMsaD",
        "colab": {
          "base_uri": "https://localhost:8080/"
        },
        "outputId": "e93bca00-35d9-47af-dc2f-c423ab5d8f2d"
      },
      "execution_count": 16,
      "outputs": [
        {
          "output_type": "stream",
          "name": "stdout",
          "text": [
            "Epoch 1/100\n",
            "287/287 - 71s - loss: 1.0052 - accuracy: 0.5821 - val_loss: 0.7320 - val_accuracy: 0.7036 - 71s/epoch - 249ms/step\n",
            "Epoch 2/100\n",
            "287/287 - 62s - loss: 0.6482 - accuracy: 0.7578 - val_loss: 0.5947 - val_accuracy: 0.7672 - 62s/epoch - 217ms/step\n",
            "Epoch 3/100\n",
            "287/287 - 62s - loss: 0.5378 - accuracy: 0.8058 - val_loss: 0.4308 - val_accuracy: 0.8357 - 62s/epoch - 214ms/step\n",
            "Epoch 4/100\n",
            "287/287 - 63s - loss: 0.4911 - accuracy: 0.8217 - val_loss: 0.4480 - val_accuracy: 0.8261 - 63s/epoch - 218ms/step\n",
            "Epoch 5/100\n",
            "287/287 - 62s - loss: 0.4477 - accuracy: 0.8360 - val_loss: 0.3871 - val_accuracy: 0.8566 - 62s/epoch - 217ms/step\n",
            "Epoch 6/100\n",
            "287/287 - 61s - loss: 0.4047 - accuracy: 0.8521 - val_loss: 0.4319 - val_accuracy: 0.8474 - 61s/epoch - 213ms/step\n",
            "Epoch 7/100\n",
            "287/287 - 63s - loss: 0.3922 - accuracy: 0.8554 - val_loss: 0.3390 - val_accuracy: 0.8784 - 63s/epoch - 219ms/step\n",
            "Epoch 8/100\n",
            "287/287 - 62s - loss: 0.3673 - accuracy: 0.8654 - val_loss: 0.4974 - val_accuracy: 0.8217 - 62s/epoch - 215ms/step\n",
            "Epoch 9/100\n",
            "287/287 - 62s - loss: 0.3403 - accuracy: 0.8764 - val_loss: 0.3321 - val_accuracy: 0.8827 - 62s/epoch - 215ms/step\n",
            "Epoch 10/100\n",
            "287/287 - 62s - loss: 0.3261 - accuracy: 0.8836 - val_loss: 0.2993 - val_accuracy: 0.8958 - 62s/epoch - 215ms/step\n",
            "Epoch 11/100\n",
            "287/287 - 62s - loss: 0.3145 - accuracy: 0.8875 - val_loss: 0.4154 - val_accuracy: 0.8400 - 62s/epoch - 216ms/step\n",
            "Epoch 12/100\n",
            "287/287 - 62s - loss: 0.2989 - accuracy: 0.8883 - val_loss: 0.2955 - val_accuracy: 0.8971 - 62s/epoch - 215ms/step\n",
            "Epoch 13/100\n",
            "287/287 - 62s - loss: 0.2764 - accuracy: 0.8971 - val_loss: 0.3020 - val_accuracy: 0.8858 - 62s/epoch - 215ms/step\n",
            "Epoch 14/100\n",
            "287/287 - 62s - loss: 0.2801 - accuracy: 0.8972 - val_loss: 0.3256 - val_accuracy: 0.8771 - 62s/epoch - 215ms/step\n",
            "Epoch 15/100\n",
            "287/287 - 61s - loss: 0.2550 - accuracy: 0.9048 - val_loss: 0.3320 - val_accuracy: 0.8910 - 61s/epoch - 214ms/step\n",
            "Epoch 16/100\n",
            "287/287 - 61s - loss: 0.2583 - accuracy: 0.9059 - val_loss: 0.2763 - val_accuracy: 0.9106 - 61s/epoch - 214ms/step\n",
            "Epoch 17/100\n",
            "287/287 - 62s - loss: 0.2364 - accuracy: 0.9122 - val_loss: 0.2551 - val_accuracy: 0.9189 - 62s/epoch - 218ms/step\n",
            "Epoch 18/100\n",
            "287/287 - 61s - loss: 0.2406 - accuracy: 0.9151 - val_loss: 0.4188 - val_accuracy: 0.8522 - 61s/epoch - 212ms/step\n",
            "Epoch 19/100\n",
            "287/287 - 62s - loss: 0.2290 - accuracy: 0.9166 - val_loss: 0.2670 - val_accuracy: 0.9085 - 62s/epoch - 215ms/step\n",
            "Epoch 20/100\n",
            "287/287 - 62s - loss: 0.2179 - accuracy: 0.9191 - val_loss: 0.3212 - val_accuracy: 0.8980 - 62s/epoch - 216ms/step\n",
            "Epoch 21/100\n",
            "287/287 - 61s - loss: 0.2279 - accuracy: 0.9169 - val_loss: 0.2602 - val_accuracy: 0.9146 - 61s/epoch - 211ms/step\n",
            "Epoch 22/100\n",
            "287/287 - 62s - loss: 0.2056 - accuracy: 0.9255 - val_loss: 0.4232 - val_accuracy: 0.8662 - 62s/epoch - 216ms/step\n",
            "Epoch 23/100\n",
            "287/287 - 62s - loss: 0.1991 - accuracy: 0.9270 - val_loss: 0.2897 - val_accuracy: 0.9015 - 62s/epoch - 215ms/step\n",
            "Epoch 24/100\n",
            "287/287 - 62s - loss: 0.1987 - accuracy: 0.9294 - val_loss: 0.2870 - val_accuracy: 0.9028 - 62s/epoch - 214ms/step\n",
            "Epoch 25/100\n",
            "287/287 - 62s - loss: 0.1847 - accuracy: 0.9372 - val_loss: 0.2773 - val_accuracy: 0.9102 - 62s/epoch - 215ms/step\n",
            "Epoch 26/100\n",
            "287/287 - 62s - loss: 0.1856 - accuracy: 0.9338 - val_loss: 0.3689 - val_accuracy: 0.8875 - 62s/epoch - 215ms/step\n",
            "Epoch 27/100\n",
            "287/287 - 62s - loss: 0.1755 - accuracy: 0.9364 - val_loss: 0.2681 - val_accuracy: 0.9111 - 62s/epoch - 214ms/step\n",
            "Epoch 28/100\n",
            "287/287 - 61s - loss: 0.1724 - accuracy: 0.9342 - val_loss: 0.3229 - val_accuracy: 0.8954 - 61s/epoch - 214ms/step\n",
            "Epoch 29/100\n",
            "287/287 - 61s - loss: 0.1879 - accuracy: 0.9323 - val_loss: 0.3075 - val_accuracy: 0.8989 - 61s/epoch - 213ms/step\n",
            "Epoch 30/100\n",
            "287/287 - 62s - loss: 0.1550 - accuracy: 0.9438 - val_loss: 0.2845 - val_accuracy: 0.9098 - 62s/epoch - 215ms/step\n",
            "Epoch 31/100\n",
            "287/287 - 61s - loss: 0.1608 - accuracy: 0.9408 - val_loss: 0.4000 - val_accuracy: 0.8775 - 61s/epoch - 214ms/step\n",
            "Epoch 32/100\n",
            "287/287 - 61s - loss: 0.1597 - accuracy: 0.9399 - val_loss: 0.3898 - val_accuracy: 0.8827 - 61s/epoch - 214ms/step\n",
            "Epoch 33/100\n",
            "287/287 - 61s - loss: 0.1626 - accuracy: 0.9385 - val_loss: 0.3275 - val_accuracy: 0.8980 - 61s/epoch - 214ms/step\n",
            "Epoch 34/100\n",
            "\n",
            " Model telah mencapai akurasi >92% dan validasi akurasi >92%\n",
            "287/287 - 62s - loss: 0.1499 - accuracy: 0.9448 - val_loss: 0.2368 - val_accuracy: 0.9268 - 62s/epoch - 216ms/step\n"
          ]
        }
      ]
    },
    {
      "cell_type": "code",
      "source": [
        "import matplotlib.pyplot as plt\n",
        "plt.plot(riwayat_training_model.history['accuracy'])\n",
        "plt.plot(riwayat_training_model.history['val_accuracy'])\n",
        "plt.title('Akurasi Model Image Classification')\n",
        "plt.ylabel('accuracy')\n",
        "plt.xlabel('epoch')\n",
        "plt.legend(['train', 'test'], loc='upper left')\n",
        "plt.show()"
      ],
      "metadata": {
        "id": "C7iPFQ2TOXMx",
        "colab": {
          "base_uri": "https://localhost:8080/",
          "height": 295
        },
        "outputId": "d139c6fb-cf7d-4736-de89-0ac240373e83"
      },
      "execution_count": 17,
      "outputs": [
        {
          "output_type": "display_data",
          "data": {
            "text/plain": [
              "<Figure size 432x288 with 1 Axes>"
            ],
            "image/png": "[encoded data removed]"
          },
          "metadata": {
            "needs_background": "light"
          }
        }
      ]
    },
    {
      "cell_type": "code",
      "source": [
        "import matplotlib.pyplot as plt\n",
        "plt.plot(riwayat_training_model.history['loss'])\n",
        "plt.plot(riwayat_training_model.history['val_loss'])\n",
        "plt.title('Loss Model Image Classification')\n",
        "plt.ylabel('loss')\n",
        "plt.xlabel('epoch ke-')\n",
        "plt.legend(['train', 'test'], loc = 'upper right')\n",
        "plt.show()"
      ],
      "metadata": {
        "colab": {
          "base_uri": "https://localhost:8080/",
          "height": 295
        },
        "id": "JRQQ-lCgmVAZ",
        "outputId": "cbe555e6-1cd4-415b-ec1c-55b077f86be8"
      },
      "execution_count": 18,
      "outputs": [
        {
          "output_type": "display_data",
          "data": {
            "text/plain": [
              "<Figure size 432x288 with 1 Axes>"
            ],
            "image/png": "[encoded data removed]"
          },
          "metadata": {
            "needs_background": "light"
          }
        }
      ]
    },
    {
      "cell_type": "markdown",
      "source": [
        "# Simpan Model Pada Format SavedModel"
      ],
      "metadata": {
        "id": "KCVLrk8umrMg"
      }
    },
    {
      "cell_type": "code",
      "source": [
        "export_dir = 'saved_model/'\n",
        "tf.saved_model.save(model, export_dir)"
      ],
      "metadata": {
        "colab": {
          "base_uri": "https://localhost:8080/"
        },
        "id": "yDD1IGtOmaQC",
        "outputId": "9899c59f-34d5-487e-bce8-fd5cb60370e8"
      },
      "execution_count": 19,
      "outputs": [
        {
          "output_type": "stream",
          "name": "stderr",
          "text": [
            "WARNING:absl:Found untraced functions such as _jit_compiled_convolution_op, _jit_compiled_convolution_op, _jit_compiled_convolution_op, _jit_compiled_convolution_op while saving (showing 4 of 4). These functions will not be directly callable after loading.\n"
          ]
        }
      ]
    },
    {
      "cell_type": "markdown",
      "source": [
        "# Convert SavedModel Menjadi animal.tflite"
      ],
      "metadata": {
        "id": "mjsP_bO1nXn1"
      }
    },
    {
      "cell_type": "code",
      "source": [
        "import pathlib\n",
        "\n",
        "converter = tf.lite.TFLiteConverter.from_saved_model(export_dir)\n",
        "tflite_model = converter.convert()\n",
        "\n",
        "tflite_model_file = pathlib.Path('animal.tflite')\n",
        "tflite_model_file.write_bytes(tflite_model)"
      ],
      "metadata": {
        "colab": {
          "base_uri": "https://localhost:8080/"
        },
        "id": "8Zf_AFE_nUB7",
        "outputId": "b40e7931-66a8-4652-8dbf-3b96a29a4711"
      },
      "execution_count": 20,
      "outputs": [
        {
          "output_type": "execute_result",
          "data": {
            "text/plain": [
              "13900636"
            ]
          },
          "metadata": {},
          "execution_count": 20
        }
      ]
    },
    {
      "cell_type": "code",
      "source": [],
      "metadata": {
        "id": "QnLe-Itpn9Ak"
      },
      "execution_count": null,
      "outputs": []
    }
  ]
}