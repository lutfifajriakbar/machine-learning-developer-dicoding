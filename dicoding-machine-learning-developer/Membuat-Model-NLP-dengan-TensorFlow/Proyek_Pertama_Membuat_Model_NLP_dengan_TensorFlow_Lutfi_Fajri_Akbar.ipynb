{
  "nbformat": 4,
  "nbformat_minor": 0,
  "metadata": {
    "colab": {
      "provenance": [],
      "collapsed_sections": []
    },
    "kernelspec": {
      "name": "python3",
      "display_name": "Python 3"
    },
    "language_info": {
      "name": "python"
    },
    "accelerator": "GPU"
  },
  "cells": [
    {
      "cell_type": "markdown",
      "source": [
        "# Proyek Pertama Klasifikasi Gender Berdasarkan Namanya"
      ],
      "metadata": {
        "id": "UxLO7RWzhkhd"
      }
    },
    {
      "cell_type": "markdown",
      "source": [
        "# Data Diri\n",
        "### **Nama** : \n",
        "Lutfi Fajri Akbar\n",
        "### **No. Register** :\n",
        "1494037162101-2551\n",
        "### **Username Dicoding**:\n",
        "lutfifajri02\n",
        "### **E-mail**:\n",
        "ltfffajri@gmail.com"
      ],
      "metadata": {
        "id": "dZSKJlL1hqgd"
      }
    },
    {
      "cell_type": "markdown",
      "source": [
        "# Codelab"
      ],
      "metadata": {
        "id": "N4Cf6MzIhsxI"
      }
    },
    {
      "cell_type": "code",
      "source": [
        "import pandas as pd\n",
        "df = pd.read_csv('/content/indonesian-names-people.csv')"
      ],
      "metadata": {
        "id": "Rq8VtRg7jeon"
      },
      "execution_count": 76,
      "outputs": []
    },
    {
      "cell_type": "code",
      "source": [
        "df.info()"
      ],
      "metadata": {
        "colab": {
          "base_uri": "https://localhost:8080/"
        },
        "id": "us2OTTLqlmRa",
        "outputId": "c48891a0-60ae-4bb4-a997-c505cb689b65"
      },
      "execution_count": 77,
      "outputs": [
        {
          "output_type": "stream",
          "name": "stdout",
          "text": [
            "<class 'pandas.core.frame.DataFrame'>\n",
            "RangeIndex: 2230 entries, 0 to 2229\n",
            "Data columns (total 2 columns):\n",
            " #   Column  Non-Null Count  Dtype \n",
            "---  ------  --------------  ----- \n",
            " 0   name    2230 non-null   object\n",
            " 1   gender  2230 non-null   object\n",
            "dtypes: object(2)\n",
            "memory usage: 35.0+ KB\n"
          ]
        }
      ]
    },
    {
      "cell_type": "code",
      "source": [
        "df.head(10)"
      ],
      "metadata": {
        "colab": {
          "base_uri": "https://localhost:8080/",
          "height": 363
        },
        "id": "D0Zp42uRlnQ8",
        "outputId": "6d09e525-d162-4a5e-d0db-21e1a84a2db2"
      },
      "execution_count": 78,
      "outputs": [
        {
          "output_type": "execute_result",
          "data": {
            "text/plain": [
              "                          name gender\n",
              "0              hafizhan shidqi      m\n",
              "1                gandhi wibowo      m\n",
              "2  aldio mahendra purwandrarto      m\n",
              "3                  benny putra      m\n",
              "4         vicky vernando dasta      m\n",
              "5               jufianto henri      m\n",
              "6                  aan nuraini      f\n",
              "7                 abdur rahman      m\n",
              "8                  abdurrahman      m\n",
              "9              ade indra sukma      f"
            ],
            "text/html": [
              "\n",
              "  <div id=\"df-03e957cc-af76-4bff-bcb7-8a95094eda76\">\n",
              "    <div class=\"colab-df-container\">\n",
              "      <div>\n",
              "<style scoped>\n",
              "    .dataframe tbody tr th:only-of-type {\n",
              "        vertical-align: middle;\n",
              "    }\n",
              "\n",
              "    .dataframe tbody tr th {\n",
              "        vertical-align: top;\n",
              "    }\n",
              "\n",
              "    .dataframe thead th {\n",
              "        text-align: right;\n",
              "    }\n",
              "</style>\n",
              "<table border=\"1\" class=\"dataframe\">\n",
              "  <thead>\n",
              "    <tr style=\"text-align: right;\">\n",
              "      <th></th>\n",
              "      <th>name</th>\n",
              "      <th>gender</th>\n",
              "    </tr>\n",
              "  </thead>\n",
              "  <tbody>\n",
              "    <tr>\n",
              "      <th>0</th>\n",
              "      <td>hafizhan shidqi</td>\n",
              "      <td>m</td>\n",
              "    </tr>\n",
              "    <tr>\n",
              "      <th>1</th>\n",
              "      <td>gandhi wibowo</td>\n",
              "      <td>m</td>\n",
              "    </tr>\n",
              "    <tr>\n",
              "      <th>2</th>\n",
              "      <td>aldio mahendra purwandrarto</td>\n",
              "      <td>m</td>\n",
              "    </tr>\n",
              "    <tr>\n",
              "      <th>3</th>\n",
              "      <td>benny putra</td>\n",
              "      <td>m</td>\n",
              "    </tr>\n",
              "    <tr>\n",
              "      <th>4</th>\n",
              "      <td>vicky vernando dasta</td>\n",
              "      <td>m</td>\n",
              "    </tr>\n",
              "    <tr>\n",
              "      <th>5</th>\n",
              "      <td>jufianto henri</td>\n",
              "      <td>m</td>\n",
              "    </tr>\n",
              "    <tr>\n",
              "      <th>6</th>\n",
              "      <td>aan nuraini</td>\n",
              "      <td>f</td>\n",
              "    </tr>\n",
              "    <tr>\n",
              "      <th>7</th>\n",
              "      <td>abdur rahman</td>\n",
              "      <td>m</td>\n",
              "    </tr>\n",
              "    <tr>\n",
              "      <th>8</th>\n",
              "      <td>abdurrahman</td>\n",
              "      <td>m</td>\n",
              "    </tr>\n",
              "    <tr>\n",
              "      <th>9</th>\n",
              "      <td>ade indra sukma</td>\n",
              "      <td>f</td>\n",
              "    </tr>\n",
              "  </tbody>\n",
              "</table>\n",
              "</div>\n",
              "      <button class=\"colab-df-convert\" onclick=\"convertToInteractive('df-03e957cc-af76-4bff-bcb7-8a95094eda76')\"\n",
              "              title=\"Convert this dataframe to an interactive table.\"\n",
              "              style=\"display:none;\">\n",
              "        \n",
              "  <svg xmlns=\"http://www.w3.org/2000/svg\" height=\"24px\"viewBox=\"0 0 24 24\"\n",
              "       width=\"24px\">\n",
              "    <path d=\"M0 0h24v24H0V0z\" fill=\"none\"/>\n",
              "    <path d=\"M18.56 5.44l.94 2.06.94-2.06 2.06-.94-2.06-.94-.94-2.06-.94 2.06-2.06.94zm-11 1L8.5 8.5l.94-2.06 2.06-.94-2.06-.94L8.5 2.5l-.94 2.06-2.06.94zm10 10l.94 2.06.94-2.06 2.06-.94-2.06-.94-.94-2.06-.94 2.06-2.06.94z\"/><path d=\"M17.41 7.96l-1.37-1.37c-.4-.4-.92-.59-1.43-.59-.52 0-1.04.2-1.43.59L10.3 9.45l-7.72 7.72c-.78.78-.78 2.05 0 2.83L4 21.41c.39.39.9.59 1.41.59.51 0 1.02-.2 1.41-.59l7.78-7.78 2.81-2.81c.8-.78.8-2.07 0-2.86zM5.41 20L4 18.59l7.72-7.72 1.47 1.35L5.41 20z\"/>\n",
              "  </svg>\n",
              "      </button>\n",
              "      \n",
              "  <style>\n",
              "    .colab-df-container {\n",
              "      display:flex;\n",
              "      flex-wrap:wrap;\n",
              "      gap: 12px;\n",
              "    }\n",
              "\n",
              "    .colab-df-convert {\n",
              "      background-color: #E8F0FE;\n",
              "      border: none;\n",
              "      border-radius: 50%;\n",
              "      cursor: pointer;\n",
              "      display: none;\n",
              "      fill: #1967D2;\n",
              "      height: 32px;\n",
              "      padding: 0 0 0 0;\n",
              "      width: 32px;\n",
              "    }\n",
              "\n",
              "    .colab-df-convert:hover {\n",
              "      background-color: #E2EBFA;\n",
              "      box-shadow: 0px 1px 2px rgba(60, 64, 67, 0.3), 0px 1px 3px 1px rgba(60, 64, 67, 0.15);\n",
              "      fill: #174EA6;\n",
              "    }\n",
              "\n",
              "    [theme=dark] .colab-df-convert {\n",
              "      background-color: #3B4455;\n",
              "      fill: #D2E3FC;\n",
              "    }\n",
              "\n",
              "    [theme=dark] .colab-df-convert:hover {\n",
              "      background-color: #434B5C;\n",
              "      box-shadow: 0px 1px 3px 1px rgba(0, 0, 0, 0.15);\n",
              "      filter: drop-shadow(0px 1px 2px rgba(0, 0, 0, 0.3));\n",
              "      fill: #FFFFFF;\n",
              "    }\n",
              "  </style>\n",
              "\n",
              "      <script>\n",
              "        const buttonEl =\n",
              "          document.querySelector('#df-03e957cc-af76-4bff-bcb7-8a95094eda76 button.colab-df-convert');\n",
              "        buttonEl.style.display =\n",
              "          google.colab.kernel.accessAllowed ? 'block' : 'none';\n",
              "\n",
              "        async function convertToInteractive(key) {\n",
              "          const element = document.querySelector('#df-03e957cc-af76-4bff-bcb7-8a95094eda76');\n",
              "          const dataTable =\n",
              "            await google.colab.kernel.invokeFunction('convertToInteractive',\n",
              "                                                     [key], {});\n",
              "          if (!dataTable) return;\n",
              "\n",
              "          const docLinkHtml = 'Like what you see? Visit the ' +\n",
              "            '<a target=\"_blank\" href=https://colab.research.google.com/notebooks/data_table.ipynb>data table notebook</a>'\n",
              "            + ' to learn more about interactive tables.';\n",
              "          element.innerHTML = '';\n",
              "          dataTable['output_type'] = 'display_data';\n",
              "          await google.colab.output.renderOutput(dataTable, element);\n",
              "          const docLink = document.createElement('div');\n",
              "          docLink.innerHTML = docLinkHtml;\n",
              "          element.appendChild(docLink);\n",
              "        }\n",
              "      </script>\n",
              "    </div>\n",
              "  </div>\n",
              "  "
            ]
          },
          "metadata": {},
          "execution_count": 78
        }
      ]
    },
    {
      "cell_type": "code",
      "source": [
        "df['gender'].replace(['m', 'f'], [0,1], inplace=True)\n",
        "df.head(20)"
      ],
      "metadata": {
        "id": "bBf-thUplwNU",
        "colab": {
          "base_uri": "https://localhost:8080/",
          "height": 677
        },
        "outputId": "ee7cde6a-2452-4544-a993-4c2a7032d757"
      },
      "execution_count": 79,
      "outputs": [
        {
          "output_type": "execute_result",
          "data": {
            "text/plain": [
              "                           name  gender\n",
              "0               hafizhan shidqi       0\n",
              "1                 gandhi wibowo       0\n",
              "2   aldio mahendra purwandrarto       0\n",
              "3                   benny putra       0\n",
              "4          vicky vernando dasta       0\n",
              "5                jufianto henri       0\n",
              "6                   aan nuraini       1\n",
              "7                  abdur rahman       0\n",
              "8                   abdurrahman       0\n",
              "9               ade indra sukma       1\n",
              "10                 ade irmayani       1\n",
              "11         bakti yoga fiyandana       0\n",
              "12          daniel sepra fatama       0\n",
              "13                dayu m sandro       0\n",
              "14          dean mareti hariani       1\n",
              "15         edi kurniawan wibowo       0\n",
              "16          fadil rahmat andini       0\n",
              "17       fahmi iqbal firmananda       0\n",
              "18                      fairuzi       0\n",
              "19                      gustian       0"
            ],
            "text/html": [
              "\n",
              "  <div id=\"df-a6fec03e-375c-4c07-b704-76175f8d912f\">\n",
              "    <div class=\"colab-df-container\">\n",
              "      <div>\n",
              "<style scoped>\n",
              "    .dataframe tbody tr th:only-of-type {\n",
              "        vertical-align: middle;\n",
              "    }\n",
              "\n",
              "    .dataframe tbody tr th {\n",
              "        vertical-align: top;\n",
              "    }\n",
              "\n",
              "    .dataframe thead th {\n",
              "        text-align: right;\n",
              "    }\n",
              "</style>\n",
              "<table border=\"1\" class=\"dataframe\">\n",
              "  <thead>\n",
              "    <tr style=\"text-align: right;\">\n",
              "      <th></th>\n",
              "      <th>name</th>\n",
              "      <th>gender</th>\n",
              "    </tr>\n",
              "  </thead>\n",
              "  <tbody>\n",
              "    <tr>\n",
              "      <th>0</th>\n",
              "      <td>hafizhan shidqi</td>\n",
              "      <td>0</td>\n",
              "    </tr>\n",
              "    <tr>\n",
              "      <th>1</th>\n",
              "      <td>gandhi wibowo</td>\n",
              "      <td>0</td>\n",
              "    </tr>\n",
              "    <tr>\n",
              "      <th>2</th>\n",
              "      <td>aldio mahendra purwandrarto</td>\n",
              "      <td>0</td>\n",
              "    </tr>\n",
              "    <tr>\n",
              "      <th>3</th>\n",
              "      <td>benny putra</td>\n",
              "      <td>0</td>\n",
              "    </tr>\n",
              "    <tr>\n",
              "      <th>4</th>\n",
              "      <td>vicky vernando dasta</td>\n",
              "      <td>0</td>\n",
              "    </tr>\n",
              "    <tr>\n",
              "      <th>5</th>\n",
              "      <td>jufianto henri</td>\n",
              "      <td>0</td>\n",
              "    </tr>\n",
              "    <tr>\n",
              "      <th>6</th>\n",
              "      <td>aan nuraini</td>\n",
              "      <td>1</td>\n",
              "    </tr>\n",
              "    <tr>\n",
              "      <th>7</th>\n",
              "      <td>abdur rahman</td>\n",
              "      <td>0</td>\n",
              "    </tr>\n",
              "    <tr>\n",
              "      <th>8</th>\n",
              "      <td>abdurrahman</td>\n",
              "      <td>0</td>\n",
              "    </tr>\n",
              "    <tr>\n",
              "      <th>9</th>\n",
              "      <td>ade indra sukma</td>\n",
              "      <td>1</td>\n",
              "    </tr>\n",
              "    <tr>\n",
              "      <th>10</th>\n",
              "      <td>ade irmayani</td>\n",
              "      <td>1</td>\n",
              "    </tr>\n",
              "    <tr>\n",
              "      <th>11</th>\n",
              "      <td>bakti yoga fiyandana</td>\n",
              "      <td>0</td>\n",
              "    </tr>\n",
              "    <tr>\n",
              "      <th>12</th>\n",
              "      <td>daniel sepra fatama</td>\n",
              "      <td>0</td>\n",
              "    </tr>\n",
              "    <tr>\n",
              "      <th>13</th>\n",
              "      <td>dayu m sandro</td>\n",
              "      <td>0</td>\n",
              "    </tr>\n",
              "    <tr>\n",
              "      <th>14</th>\n",
              "      <td>dean mareti hariani</td>\n",
              "      <td>1</td>\n",
              "    </tr>\n",
              "    <tr>\n",
              "      <th>15</th>\n",
              "      <td>edi kurniawan wibowo</td>\n",
              "      <td>0</td>\n",
              "    </tr>\n",
              "    <tr>\n",
              "      <th>16</th>\n",
              "      <td>fadil rahmat andini</td>\n",
              "      <td>0</td>\n",
              "    </tr>\n",
              "    <tr>\n",
              "      <th>17</th>\n",
              "      <td>fahmi iqbal firmananda</td>\n",
              "      <td>0</td>\n",
              "    </tr>\n",
              "    <tr>\n",
              "      <th>18</th>\n",
              "      <td>fairuzi</td>\n",
              "      <td>0</td>\n",
              "    </tr>\n",
              "    <tr>\n",
              "      <th>19</th>\n",
              "      <td>gustian</td>\n",
              "      <td>0</td>\n",
              "    </tr>\n",
              "  </tbody>\n",
              "</table>\n",
              "</div>\n",
              "      <button class=\"colab-df-convert\" onclick=\"convertToInteractive('df-a6fec03e-375c-4c07-b704-76175f8d912f')\"\n",
              "              title=\"Convert this dataframe to an interactive table.\"\n",
              "              style=\"display:none;\">\n",
              "        \n",
              "  <svg xmlns=\"http://www.w3.org/2000/svg\" height=\"24px\"viewBox=\"0 0 24 24\"\n",
              "       width=\"24px\">\n",
              "    <path d=\"M0 0h24v24H0V0z\" fill=\"none\"/>\n",
              "    <path d=\"M18.56 5.44l.94 2.06.94-2.06 2.06-.94-2.06-.94-.94-2.06-.94 2.06-2.06.94zm-11 1L8.5 8.5l.94-2.06 2.06-.94-2.06-.94L8.5 2.5l-.94 2.06-2.06.94zm10 10l.94 2.06.94-2.06 2.06-.94-2.06-.94-.94-2.06-.94 2.06-2.06.94z\"/><path d=\"M17.41 7.96l-1.37-1.37c-.4-.4-.92-.59-1.43-.59-.52 0-1.04.2-1.43.59L10.3 9.45l-7.72 7.72c-.78.78-.78 2.05 0 2.83L4 21.41c.39.39.9.59 1.41.59.51 0 1.02-.2 1.41-.59l7.78-7.78 2.81-2.81c.8-.78.8-2.07 0-2.86zM5.41 20L4 18.59l7.72-7.72 1.47 1.35L5.41 20z\"/>\n",
              "  </svg>\n",
              "      </button>\n",
              "      \n",
              "  <style>\n",
              "    .colab-df-container {\n",
              "      display:flex;\n",
              "      flex-wrap:wrap;\n",
              "      gap: 12px;\n",
              "    }\n",
              "\n",
              "    .colab-df-convert {\n",
              "      background-color: #E8F0FE;\n",
              "      border: none;\n",
              "      border-radius: 50%;\n",
              "      cursor: pointer;\n",
              "      display: none;\n",
              "      fill: #1967D2;\n",
              "      height: 32px;\n",
              "      padding: 0 0 0 0;\n",
              "      width: 32px;\n",
              "    }\n",
              "\n",
              "    .colab-df-convert:hover {\n",
              "      background-color: #E2EBFA;\n",
              "      box-shadow: 0px 1px 2px rgba(60, 64, 67, 0.3), 0px 1px 3px 1px rgba(60, 64, 67, 0.15);\n",
              "      fill: #174EA6;\n",
              "    }\n",
              "\n",
              "    [theme=dark] .colab-df-convert {\n",
              "      background-color: #3B4455;\n",
              "      fill: #D2E3FC;\n",
              "    }\n",
              "\n",
              "    [theme=dark] .colab-df-convert:hover {\n",
              "      background-color: #434B5C;\n",
              "      box-shadow: 0px 1px 3px 1px rgba(0, 0, 0, 0.15);\n",
              "      filter: drop-shadow(0px 1px 2px rgba(0, 0, 0, 0.3));\n",
              "      fill: #FFFFFF;\n",
              "    }\n",
              "  </style>\n",
              "\n",
              "      <script>\n",
              "        const buttonEl =\n",
              "          document.querySelector('#df-a6fec03e-375c-4c07-b704-76175f8d912f button.colab-df-convert');\n",
              "        buttonEl.style.display =\n",
              "          google.colab.kernel.accessAllowed ? 'block' : 'none';\n",
              "\n",
              "        async function convertToInteractive(key) {\n",
              "          const element = document.querySelector('#df-a6fec03e-375c-4c07-b704-76175f8d912f');\n",
              "          const dataTable =\n",
              "            await google.colab.kernel.invokeFunction('convertToInteractive',\n",
              "                                                     [key], {});\n",
              "          if (!dataTable) return;\n",
              "\n",
              "          const docLinkHtml = 'Like what you see? Visit the ' +\n",
              "            '<a target=\"_blank\" href=https://colab.research.google.com/notebooks/data_table.ipynb>data table notebook</a>'\n",
              "            + ' to learn more about interactive tables.';\n",
              "          element.innerHTML = '';\n",
              "          dataTable['output_type'] = 'display_data';\n",
              "          await google.colab.output.renderOutput(dataTable, element);\n",
              "          const docLink = document.createElement('div');\n",
              "          docLink.innerHTML = docLinkHtml;\n",
              "          element.appendChild(docLink);\n",
              "        }\n",
              "      </script>\n",
              "    </div>\n",
              "  </div>\n",
              "  "
            ]
          },
          "metadata": {},
          "execution_count": 79
        }
      ]
    },
    {
      "cell_type": "code",
      "source": [
        "nama_orang = df['name'].values\n",
        "label = df['gender'].values"
      ],
      "metadata": {
        "id": "NKsvDE0mEwpo"
      },
      "execution_count": 80,
      "outputs": []
    },
    {
      "cell_type": "code",
      "source": [
        "nama_orang"
      ],
      "metadata": {
        "colab": {
          "base_uri": "https://localhost:8080/"
        },
        "id": "cbO_Ho38Fyxr",
        "outputId": "e30c97f9-708d-4a6c-fc67-67254f4406b1"
      },
      "execution_count": 81,
      "outputs": [
        {
          "output_type": "execute_result",
          "data": {
            "text/plain": [
              "array(['hafizhan shidqi', 'gandhi wibowo', 'aldio mahendra purwandrarto',\n",
              "       ..., 'andre marcellino', 'muhammad fahmi', 'arie untung'],\n",
              "      dtype=object)"
            ]
          },
          "metadata": {},
          "execution_count": 81
        }
      ]
    },
    {
      "cell_type": "code",
      "source": [
        "label"
      ],
      "metadata": {
        "colab": {
          "base_uri": "https://localhost:8080/"
        },
        "id": "9AB4u0WMFzzc",
        "outputId": "ba64812b-c683-4e65-9793-ad0d72e42736"
      },
      "execution_count": 82,
      "outputs": [
        {
          "output_type": "execute_result",
          "data": {
            "text/plain": [
              "array([0, 0, 0, ..., 0, 0, 0])"
            ]
          },
          "metadata": {},
          "execution_count": 82
        }
      ]
    },
    {
      "cell_type": "code",
      "source": [
        "from sklearn.model_selection import train_test_split\n",
        "\n",
        "x_train, x_test, y_train, y_test = train_test_split(nama_orang, label, test_size=0.2)"
      ],
      "metadata": {
        "id": "YO6EPvuzF3T4"
      },
      "execution_count": 83,
      "outputs": []
    },
    {
      "cell_type": "code",
      "source": [
        "len(x_train)"
      ],
      "metadata": {
        "colab": {
          "base_uri": "https://localhost:8080/"
        },
        "id": "zRrdpZCLGLAj",
        "outputId": "a9b31ad3-563b-4228-db3d-7057c08a0f41"
      },
      "execution_count": 84,
      "outputs": [
        {
          "output_type": "execute_result",
          "data": {
            "text/plain": [
              "1784"
            ]
          },
          "metadata": {},
          "execution_count": 84
        }
      ]
    },
    {
      "cell_type": "code",
      "source": [
        "len(x_test)"
      ],
      "metadata": {
        "colab": {
          "base_uri": "https://localhost:8080/"
        },
        "id": "AeY0m5YyGRIx",
        "outputId": "6285b9f1-5503-4d83-a07d-8f7a70a51a2a"
      },
      "execution_count": 85,
      "outputs": [
        {
          "output_type": "execute_result",
          "data": {
            "text/plain": [
              "446"
            ]
          },
          "metadata": {},
          "execution_count": 85
        }
      ]
    },
    {
      "cell_type": "code",
      "source": [
        "from tensorflow.keras.preprocessing.text import Tokenizer\n",
        "\n",
        "tokenizer = Tokenizer(num_words = 5000, oov_token = 'x')\n",
        "tokenizer.fit_on_texts(x_train)                    "
      ],
      "metadata": {
        "id": "E0drSMwuGSU2"
      },
      "execution_count": 86,
      "outputs": []
    },
    {
      "cell_type": "code",
      "source": [
        "word_index = tokenizer.word_index\n",
        "print(word_index)"
      ],
      "metadata": {
        "colab": {
          "base_uri": "https://localhost:8080/"
        },
        "id": "PpuuSRt_GHPT",
        "outputId": "fec40d54-b698-4177-a6b4-f66de436bba2"
      },
      "execution_count": 87,
      "outputs": [
        {
          "output_type": "stream",
          "name": "stdout",
          "text": [
            "{'x': 1, 'muhammad': 2, 'nur': 3, 'siti': 4, 'dwi': 5, 'ahmad': 6, 'putri': 7, 'm': 8, 'putra': 9, 'tri': 10, 'ayu': 11, 'dewi': 12, 'kurniawan': 13, 'sari': 14, 'lestari': 15, 'sri': 16, 'saputra': 17, 'maulana': 18, 'al': 19, 'pratama': 20, 'eka': 21, 'setiawan': 22, 'hidayat': 23, 'abdul': 24, 'rizki': 25, 'nurul': 26, 'ningsih': 27, 'rahman': 28, 'akbar': 29, 'ali': 30, 'wahyu': 31, 'adi': 32, 'aulia': 33, 'desi': 34, 'susanti': 35, 'ramadhan': 36, 'astuti': 37, 'fitri': 38, 'muhamad': 39, 'wahyudi': 40, 'hasanah': 41, 'reza': 42, 'wati': 43, 'imam': 44, 'indra': 45, 'joko': 46, 'yanti': 47, 'wulandari': 48, 's': 49, 'ade': 50, 'slamet': 51, 'sumarno': 52, 'rahma': 53, 'hadi': 54, 'mawarni': 55, 'bagus': 56, 'indah': 57, 'rahmat': 58, 'arya': 59, 'dedi': 60, 'aldi': 61, 'supri': 62, 'safitri': 63, 'susanto': 64, 'rizky': 65, 'eko': 66, 'efendi': 67, 'wibowo': 68, 'hermawan': 69, 'dian': 70, 'agus': 71, 'fitria': 72, 'yuliani': 73, 'steven': 74, 'ridho': 75, 'fajri': 76, 'andre': 77, 'puji': 78, 'gunawan': 79, 'siswanto': 80, 'nugroho': 81, 'aziz': 82, 'teguh': 83, 'ilham': 84, 'firmansyah': 85, 'rohman': 86, 'sunarti': 87, 'asih': 88, 'rio': 89, 'kartika': 90, 'fajar': 91, 'umi': 92, 'suyadi': 93, 'syaifullah': 94, 'hakim': 95, 'syahputra': 96, 'sugeng': 97, 'surya': 98, 'sumarni': 99, 'rahayu': 100, 'dinda': 101, 'yuli': 102, 'hanif': 103, 'wahyuni': 104, 'kumala': 105, 'a': 106, 'sofyan': 107, 'dede': 108, 'yudha': 109, 'rudi': 110, 'wijaya': 111, 'simamora': 112, 'taufik': 113, 'suparmi': 114, 'andika': 115, 'nurhayati': 116, 'aisyah': 117, 'hesti': 118, 'ani': 119, 'ananda': 120, 'novi': 121, 'ibnu': 122, 'herman': 123, 'hasan': 124, 'agustina': 125, 'rizqi': 126, 'sumono': 127, 'ismail': 128, 'alifia': 129, 'abdillah': 130, 'sulastri': 131, 'selamet': 132, 'agung': 133, 'tria': 134, 'irfani': 135, 'imron': 136, 'trio': 137, 'ramadani': 138, 'fatimah': 139, 'arif': 140, 'azizah': 141, 'mega': 142, 'eva': 143, 'aris': 144, 'romlah': 145, 'muslimah': 146, 'fauzi': 147, 'wulan': 148, 'susilo': 149, 'wagiman': 150, 'yulia': 151, 'galih': 152, 'widodo': 153, 'wiwik': 154, 'edy': 155, 'lutfi': 156, 'iman': 157, 'haikal': 158, 'aprilia': 159, 'fitra': 160, 'khoirul': 161, 'nisa': 162, 'iskandar': 163, 'santoso': 164, 'handayani': 165, 'novita': 166, 'atika': 167, 'amalia': 168, 'nurdin': 169, 'tumirah': 170, 'arie': 171, 'untung': 172, 'kevin': 173, 'irfan': 174, 'nanda': 175, 'bintang': 176, 'sutrisno': 177, 'apriyani': 178, 'ramadhani': 179, 'rahmawati': 180, 'damayanti': 181, 'irwan': 182, 'kusuma': 183, 'purnomo': 184, 'reni': 185, 'hastuti': 186, 'fauzan': 187, 'ikhsan': 188, 'abdullah': 189, 'ari': 190, 'suryani': 191, 'mahendra': 192, 'septiana': 193, 'yanto': 194, 'purba': 195, 'ganjar': 196, 'aminah': 197, 'edi': 198, 'tika': 199, 'mujahid': 200, \"rifa'i\": 201, 'dani': 202, 'fauziah': 203, 'sigit': 204, 'amelia': 205, 'nova': 206, 'budi': 207, 'suci': 208, 'jannah': 209, 'saputri': 210, 'yusuf': 211, 'aji': 212, 'alwi': 213, 'hamzah': 214, 'fiki': 215, 'riko': 216, 'hari': 217, 'prasetyo': 218, 'nadira': 219, 'rusmiyati': 220, 'neneng': 221, 'sundari': 222, 'atik': 223, 'winarni': 224, 'muji': 225, 'cahyono': 226, 'anita': 227, 'handoko': 228, 'suyoto': 229, 'adhy': 230, 'andini': 231, 'bela': 232, 'larasati': 233, 'johan': 234, 'michael': 235, 'suparno': 236, 'efi': 237, 'mitro': 238, 'panut': 239, 'sujono': 240, 'santi': 241, 'sagiyati': 242, 'junaidi': 243, 'febri': 244, 'satria': 245, 'nina': 246, 'cahya': 247, 'fatkur': 248, 'jalal': 249, 'bejo': 250, 'susi': 251, 'anggun': 252, 'ika': 253, 'rudianto': 254, 'fahrudin': 255, 'ningrum': 256, 'ikbal': 257, 'tugas': 258, 'diana': 259, 'purwati': 260, 'febi': 261, 'rakha': 262, 'arifin': 263, 'hanafi': 264, 'sukma': 265, 'asri': 266, 'hamdani': 267, 'setio': 268, 'lidya': 269, 'mami': 270, 'hernawati': 271, 'muttakin': 272, 'syafa': 273, 'sutiono': 274, 'nadia': 275, 'daniel': 276, 'fatama': 277, 'lukman': 278, 'hanifah': 279, 'damanik': 280, 'wahab': 281, 'syifa': 282, 'basalamah': 283, 'supriyadi': 284, 'mustaqpirin': 285, 'hariyono': 286, 'suroso': 287, 'sudarmi': 288, 'alif': 289, 'ardana': 290, 'winda': 291, 'feri': 292, 'triani': 293, 'wahid': 294, 'tuti': 295, 'annida': 296, 'hasnaul': 297, 'tiara': 298, 'rizka': 299, 'anggia': 300, 'aini': 301, 'legimin': 302, 'sukatmi': 303, 'prayoga': 304, 'irma': 305, 'sabrina': 306, 'oktaviana': 307, 'riski': 308, 'supriyanto': 309, 'andreas': 310, 'fauziyah': 311, 'widyo': 312, 'mustofa': 313, 'prasetio': 314, 'firda': 315, 'maya': 316, 'salpiah': 317, 'farhan': 318, 'lubis': 319, 'anindita': 320, 'benny': 321, 'alfina': 322, 'r': 323, 'anwar': 324, 'eria': 325, 'harun': 326, 'afriani': 327, 'saiful': 328, 'sumiarsih': 329, 'rian': 330, 'indarti': 331, 'yatini': 332, 'ribowo': 333, 'arbi': 334, 'khairudin': 335, 'widianto': 336, 'anisa': 337, 'warsini': 338, 'julia': 339, 'firdaus': 340, 'dhea': 341, 'andi': 342, 'haji': 343, 'fikri': 344, 'della': 345, 'ayunda': 346, 'mutiara': 347, 'nurjanah': 348, 'rahmadani': 349, 'anggraeni': 350, 'mariyem': 351, 'uswatun': 352, 'riswanto': 353, 'yanuar': 354, 'rafika': 355, 'fuad': 356, 'sumirah': 357, 'jumali': 358, 'oki': 359, 'alfi': 360, 'satiti': 361, 'purwanti': 362, 'leny': 363, 'faridhotul': 364, 'mutmaini': 365, 'hidayatullah': 366, 'miftahul': 367, 'islami': 368, 'j': 369, 'bambang': 370, 'sumantri': 371, 'vika': 372, 'rahmi': 373, 'naufal': 374, 'wardah': 375, 'aila': 376, \"annafi'an\": 377, 'zaini': 378, 'sutarman': 379, 'sariman': 380, 'sumiati': 381, 'huda': 382, 'mudrikah': 383, 'juwariyah': 384, 'nafiudin': 385, 'nora': 386, 'hani': 387, 'pradana': 388, 'ida': 389, 'somad': 390, 'apri': 391, 'abdur': 392, 'agustia': 393, 'camelia': 394, 'zubaidah': 395, 'tumidjo': 396, 'ponirah': 397, 'basyir': 398, 'hayati': 399, 'angelica': 400, 'erna': 401, 'muslim': 402, 'ira': 403, 'wendi': 404, 'rizal': 405, 'wijayanti': 406, 'setyawan': 407, 'bayu': 408, 'prayogo': 409, 'wiji': 410, \"safi'i\": 411, 'pratiwi': 412, 'fita': 413, 'eviyana': 414, 'sharafina': 415, 'hamid': 416, 'gustiana': 417, 'citra': 418, 'fahmi': 419, 'alya': 420, 'yeni': 421, 'lilis': 422, 'khairul': 423, 'tasya': 424, 'juli': 425, 'lailatul': 426, 'harianto': 427, 'zaki': 428, 'danang': 429, 'tona': 430, 'cahyo': 431, 'tumi': 432, 'agnes': 433, 'arief': 434, 'bunga': 435, 'darmawan': 436, 'teddy': 437, 'supriadi': 438, 'anin': 439, 'sudin': 440, 'sutinah': 441, 'ramawati': 442, 'singgih': 443, 'suyatno': 444, 'ratna': 445, 'ngatini': 446, 'sugiyanto': 447, 'suyanto': 448, 'aida': 449, 'suherman': 450, 'aan': 451, 'sudarmono': 452, 'syukur': 453, 'iqbal': 454, 'melia': 455, 'ihsan': 456, 'paino': 457, 'jaber': 458, 'paryono': 459, 'delia': 460, 'sulasmi': 461, 'maulina': 462, 'nita': 463, 'ainun': 464, 'indriyani': 465, 'n': 466, 'tumiati': 467, 'arsy': 468, 'habsy': 469, 'khasanah': 470, 'lia': 471, 'monica': 472, 'mira': 473, 'mustika': 474, 'yoga': 475, 'novia': 476, 'firza': 477, 'mulevi': 478, 'sidik': 479, 'meysa': 480, 'nasa': 481, 'ulviana': 482, 'nazwa': 483, 'eriandra': 484, 'wahyuningsih': 485, 'robby': 486, 'amrijen': 487, 'rafan': 488, 'arza': 489, 'aditiya': 490, 'legiani': 491, 'daiman': 492, 'hafsa': 493, 'hafizza': 494, 'restiawati': 495, 'samidi': 496, 'shaki': 497, 'apsah': 498, 'eram': 499, 'eni': 500, 'kusna': 501, 'chahya': 502, 'rikana': 503, 'nurmala': 504, 'setyo': 505, 'riska': 506, 'kemal': 507, 'pasha': 508, 'natalia': 509, 'pajar': 510, 'bahari': 511, 'haryanto': 512, 'nurrahmanu': 513, 'wunda': 514, 'andryan': 515, 'nurfatrianti': 516, 'susiati': 517, 'volint': 518, 'umbul': 519, 'jaimah': 520, 'gino': 521, 'dzaky': 522, 'maarif': 523, 'elok': 524, 'cahyati': 525, 'asmunah': 526, 'zakiah': 527, 'nurviani': 528, 'rohana': 529, 'hendrio': 530, 'junior': 531, 'pauzia': 532, 'hsb': 533, 'cindy': 534, 'purwa': 535, 'suratin': 536, 'nelvin': 537, 'renata': 538, 'mardani': 539, 'satra': 540, 'novitasari': 541, 'julian': 542, 'jayus': 543, 'suryawan': 544, 'riki': 545, 'supendi': 546, 'irhamsyah': 547, 'welas': 548, 'yehezkiel': 549, 'raudati': 550, 'zuhriyah': 551, 'sukarlan': 552, 'nurgivo': 553, 'alfajri': 554, 'aqillia': 555, 'dea': 556, 'erfianita': 557, 'cesar': 558, 'umayah': 559, 'luthfi': 560, 'abil': 561, 'fida': 562, 'nadhirotul': 563, 'khusniah': 564, 'riyanti': 565, 'mansyur': 566, 'raharjo': 567, 'haryadi': 568, 'kusriyati': 569, 'jelita': 570, 'andriastuti': 571, 'suminten': 572, 'wariyah': 573, 'ruswantoro': 574, 'revianita': 575, 'inka': 576, 'latifah': 577, 'sulistiono': 578, 'jaimin': 579, 'supriani': 580, 'alicia': 581, 'chanzia': 582, 'riyani': 583, 'syahrini': 584, 'khoiron': 585, 'andri': 586, 'afrilia': 587, 'pujianti': 588, 'sukati': 589, 'evi': 590, 'alisma': 591, 'febrina': 592, 'diponegoro': 593, 'tommy': 594, 'zul': 595, 'hafizah': 596, 'ikhwanul': 597, \"ma'ruf\": 598, 'khuza': 599, 'alhasby': 600, 'suratman': 601, 'januario': 602, 'barens': 603, 'emrizal': 604, 'hutanto': 605, 'darma': 606, 'sahputra': 607, 'kirno': 608, 'yudi': 609, 'jukhri': 610, 'hadmini': 611, 'abi': 612, 'gail': 613, 'mahdalena': 614, 'zamzari': 615, 'shinta': 616, 'cahyani': 617, 'fadolli': 618, 'qorry': 619, 'hilda': 620, 'rahmidiah': 621, 'ediyanti': 622, 'pita': 623, 'irul': 624, 'sayekti': 625, 'sholihan': 626, 'juniah': 627, 'susilawati': 628, 'sugiat': 629, 'dermawan': 630, 'astriyah': 631, 'hanifatur': 632, 'sehliya': 633, 'dika': 634, 'aristya': 635, 'linardi': 636, 'tantio': 637, 'wardi': 638, 'syaifudin': 639, 'damartyo': 640, 'permata': 641, 'fahlevi': 642, 'setia': 643, 'mujiana': 644, 'shela': 645, 'giel': 646, 'siregar': 647, 'novantio': 648, 'asmono': 649, 'epran': 650, 'setianto': 651, 'een': 652, 'angga': 653, 'hendriyanto': 654, 'rafif': 655, 'gesang': 656, 'ambar': 657, 'prastyo': 658, 'nathan': 659, 'sakhy': 660, 'ghani': 661, 'rosmawati': 662, 'krisdan': 663, 'liyana': 664, 'wisnu': 665, 'wardana': 666, 'puja': 667, 'asril': 668, 'sutramiati': 669, 'purwanto': 670, 'yona': 671, 'lely': 672, 'lutfiah': 673, 'sungkar': 674, 'ervi': 675, 'auliya': 676, 'syahidah': 677, 'darto': 678, 'rafi': 679, 'azmi': 680, 'ajeng': 681, 'yudatama': 682, 'sodik': 683, 'iswadi': 684, 'bima': 685, 'septiadi': 686, 'meisyabila': 687, 'afrianda': 688, 'zidane': 689, 'dhevan': 690, 'endah': 691, 'dinatalia': 692, 'hary': 693, 'husnul': 694, 'sepra': 695, 'sadiah': 696, 'nuriyati': 697, 'sumari': 698, 'andriansyah': 699, 'sakiyo': 700, 'azhifa': 701, 'nareswari': 702, 'chyndi': 703, 'erliani': 704, 'mauliddah': 705, 'sukarman': 706, 'syafiq': 707, 'hikmatul': 708, 'maulidiyah': 709, 'syaiful': 710, 'resti': 711, 'mila': 712, 'kaesang': 713, 'pangarep': 714, 'rosdina': 715, 'sayuti': 716, 'nasution': 717, 'dias': 718, 'marzal': 719, 'kardi': 720, 'hernanda': 721, 'krisno': 722, 'rita': 723, 'mulyasih': 724, 'salamah': 725, 'carlina': 726, 'rasidin': 727, 'kurnia': 728, 'ucok': 729, 'syahrudin': 730, 'anggraini': 731, 'girah': 732, 'riandi': 733, 'selvi': 734, 'temen': 735, 'viki': 736, 'charly': 737, 'nabila': 738, 'muhammat': 739, 'novrian': 740, 'solikhin': 741, 'hassan': 742, 'dean': 743, 'mareti': 744, 'hariani': 745, 'assyfa': 746, 'solehan': 747, 'ririe': 748, 'eirir': 749, 'luhimah': 750, 'laila': 751, 'jonianto': 752, 'nuning': 753, 'rafka': 754, 'danuarta': 755, 'lhailatul': 756, 'istamaroh': 757, 'rohim': 758, 'eri': 759, 'ratmini': 760, \"nu'\": 761, 'in': 762, 'malik': 763, 'azis': 764, 'afiah': 765, 'rohadatul': 766, 'aisy': 767, 'jurianto': 768, 'haspar': 769, 'sutedi': 770, 'khazinatun': 771, 'nida': 772, 'rivani': 773, 'widya': 774, 'manap': 775, 'sawito': 776, 'kasyani': 777, 'azi': 778, 'hendriansyah': 779, 'nafis': 780, 'lahimul': 781, 'ilmi': 782, 'nurudin': 783, 'suyono': 784, 'depri': 785, 'ariadi': 786, 'suyud': 787, 'rasmini': 788, 'ririn': 789, 'suhendri': 790, 'shafa': 791, 'mutia': 792, 'nurhaliza': 793, 'nawangsih': 794, 'audrey': 795, 'harnov': 796, 'suwarni': 797, 'ike': 798, 'rajiman': 799, 'siyamti': 800, 'suparlan': 801, 'giyem': 802, 'madona': 803, 'nahdiyah': 804, 'shafira': 805, 'yani': 806, 'chechy': 807, 'budhyarto': 808, 'novri': 809, 'sabli': 810, 'marsudin': 811, 'asiva': 812, 'fransiska': 813, 'hilma': 814, 'nurfaizah': 815, 'saikun': 816, 'achmad': 817, 'subadi': 818, 'derry': 819, 'sulaiman': 820, 'susilowati': 821, 'rafkan': 822, 'djovanka': 823, 'fariz': 824, 'madha': 825, 'leli': 826, 'miftahur': 827, 'kusmini': 828, 'galang': 829, 'alvinco': 830, 'fatchan': 831, 'mujib': 832, 'paiman': 833, 'miswardi': 834, 'miftakhul': 835, 'qolbi': 836, 'ricky': 837, 'ngadinem': 838, 'tatik': 839, 'ambarwati': 840, 'fibri': 841, 'riyandani': 842, 'sucipto': 843, 'asim': 844, 'fatah': 845, 'wirawan': 846, 'muksin': 847, 'rojakun': 848, 'fatmawati': 849, 'desnando': 850, 'deni': 851, 'primawan': 852, 'adiyanto': 853, 'yogi': 854, 'winarno': 855, 'kholipah': 856, 'hildayanti': 857, 'papia': 858, 'hontong': 859, 'mukhlis': 860, 'sariadin': 861, 'hotijah': 862, 'vigo': 863, 'farlandi': 864, 'azwir': 865, 'kelviansyah': 866, 'pariyadi': 867, 'ryan': 868, 'harika': 869, 'vaizal': 870, 'aloysius': 871, 'noven': 872, 'alhadmin': 873, 'raafi': 874, 'soerya': 875, 'lucky': 876, 'ruwadi': 877, 'koto': 878, 'handri': 879, 'rohmah': 880, 'wowon': 881, 'priatna': 882, 'sudadi': 883, 'perwira': 884, 'samilatin': 885, 'febrianto': 886, 'erina': 887, 'ruhdi': 888, 'silvia': 889, 'mulyadi': 890, 'tasminah': 891, 'trisno': 892, 'jubadi': 893, 'nyaman': 894, 'desy': 895, 'syahputri': 896, 'salwa': 897, 'unaisah': 898, 'yuda': 899, 'aldiansyah': 900, 'rendi': 901, 'ariel': 902, 'tatum': 903, 'lutffiyah': 904, 'najah': 905, 'irsyad': 906, 'fenny': 907, 'ihrom': 908, 'saminah': 909, 'gafur': 910, 'junita': 911, 'yance': 912, 'murviana': 913, 'mulyani': 914, 'faturrahman': 915, 'alfazola': 916, 'amin': 917, 'sisca': 918, 'saras': 919, 'adistiani': 920, 'masinah': 921, 'iramawati': 922, 'sulistiyono': 923, 'hamdan': 924, 'muzakir': 925, 'salip': 926, 'aurellia': 927, 'alamsah': 928, 'ridhoatun': 929, 'salbiyah': 930, 'dimas': 931, 'fadilah': 932, 'ngadini': 933, 'artha': 934, 'bisma': 935, 'firman': 936, 'sugianti': 937, 'narendra': 938, 'nindiyani': 939, 'reysa': 940, 'hastarimasuci': 941, 'iswatun': 942, 'chasanah': 943, 'maslina': 944, 'sumaryani': 945, 'lasmini': 946, 'afdal': 947, 'affandi': 948, 'mubarokah': 949, 'khoiriyah': 950, 'jihan': 951, 'salsabila': 952, 'mumtaz': 953, 'usman': 954, 'yusep': 955, 'sumirat': 956, 'kusningsih': 957, 'alfajar': 958, 'zilan': 959, 'sazim': 960, 'habibi': 961, 'nurrohim': 962, 'setiyani': 963, 'heru': 964, 'setyono': 965, 'widyanto': 966, 'tukinah': 967, 'suyani': 968, 'felly': 969, 'andhito': 970, 'juliana': 971, 'nazala': 972, 'hafiza': 973, 'fadhillah': 974, 'hesty': 975, 'srg': 976, 'iswandi': 977, 'diki': 978, 'bonem': 979, 'ariyani': 980, 'masliah': 981, 'aries': 982, 'fani': 983, 'ardy': 984, 'felix': 985, 'siauw': 986, 'akmal': 987, 'kasih': 988, 'paijem': 989, 'husmudin': 990, 'iriana': 991, 'mesinem': 992, 'riza': 993, 'tingkir': 994, 'suprihatin': 995, 'beni': 996, 'ardani': 997, 'zaenal': 998, 'rismayanda': 999, 'marcellino': 1000, 'arsinawati': 1001, 'iwantono': 1002, 'meilany': 1003, 'sakinah': 1004, 'indri': 1005, 'pertiwi': 1006, 'syahrul': 1007, 'syah': 1008, 'ivan': 1009, 'gustomi': 1010, 'sriyatun': 1011, 'isa': 1012, 'rosid': 1013, 'azmy': 1014, 'maratussholikha': 1015, 'mufli': 1016, 'dzul': 1017, 'abror': 1018, 'nadiem': 1019, 'makarim': 1020, 'rensy': 1021, 'herwinda': 1022, 'sariani': 1023, 'aprilyana': 1024, 'chomsin': 1025, 'diinulkha': 1026, 'istiani': 1027, 'soleh': 1028, 'rianto': 1029, 'nasya': 1030, 'melani': 1031, 'asnawati': 1032, 'federick': 1033, 'samuel': 1034, 'amirrudin': 1035, 'qoridhotul': 1036, 'mutakin': 1037, 'desri': 1038, 'ardika': 1039, 'edmund': 1040, 'andriano': 1041, 'fhaisah': 1042, 'albana': 1043, 'meli': 1044, 'vaizatul': 1045, 'ashariah': 1046, 'elis': 1047, 'puspita': 1048, 'sorin': 1049, 'suwanter': 1050, 'luky': 1051, 'sarianto': 1052, 'sriana': 1053, 'misni': 1054, 'faisal': 1055, 'bastiur': 1056, 'reno': 1057, 'mulia': 1058, 'riya': 1059, 'isti': 1060, 'muhsin': 1061, 'as': 1062, 'yusrika': 1063, 'wagino': 1064, 'irza': 1065, 'mujiono': 1066, 'tolib': 1067, 'syahbarul': 1068, 'neni': 1069, 'dalimunthe': 1070, 'hizkia': 1071, 'christopher': 1072, 'vina': 1073, 'nailatul': 1074, 'izzah': 1075, 'sunaryo': 1076, 'surni': 1077, 'rifaningsih': 1078, 'elisa': 1079, 'anjani': 1080, 'halima': 1081, \"tussa'dia\": 1082, 'syadza': 1083, 'qonitah': 1084, 'amir': 1085, 'mahdi': 1086, 'saskia': 1087, 'maharani': 1088, 'hatini': 1089, 'hatoyah': 1090, 'arasya': 1091, 'sukini': 1092, 'sucik': 1093, 'witdiawati': 1094, 'melinda': 1095, 'asroffa': 1096, 'ermawan': 1097, 'kasno': 1098, 'burhanudin': 1099, 'mahara': 1100, 'sulaimanda': 1101, 'ahza': 1102, 'nuraisah': 1103, 'yana': 1104, 'famana': 1105, 'arifatul': 1106, \"fu'adah\": 1107, 'sarwo': 1108, 'suwito': 1109, 'irvan': 1110, 'aldio': 1111, 'purwandrarto': 1112, 'dicky': 1113, 'pijor': 1114, 'saut': 1115, 'masruri': 1116, 'oktavianti': 1117, 'restu': 1118, 'oktavian': 1119, 'meriyanti': 1120, 'yansah': 1121, 'arta': 1122, 'cinta': 1123, 'laura': 1124, 'rati': 1125, 'purwasi': 1126, 'gabriella': 1127, 'arianti': 1128, 'nopriyadi': 1129, 'pribadi': 1130, 'aprianto': 1131, 'yassir': 1132, 'jamina': 1133, 'sagiman': 1134, 'aditia': 1135, 'yendra': 1136, 'suratno': 1137, 'sukirman': 1138, 'wagimun': 1139, 'kasmari': 1140, 'sahri': 1141, 'pahrul': 1142, 'sentioko': 1143, 'winggo': 1144, 'aga': 1145, 'septian': 1146, 'suroto': 1147, 'lentati': 1148, 'annisa': 1149, 'julita': 1150, 'konah': 1151, 'zainuri': 1152, 'dadang': 1153, 'audi': 1154, 'supartono': 1155, 'aam': 1156, 'soetry': 1157, 'dinata': 1158, 'meyer': 1159, 'sihotang': 1160, 'septhianingrum': 1161, 'mad': 1162, \"dra'i\": 1163, 'wagiyo': 1164, 'octavia': 1165, 'gading': 1166, 'martin': 1167, 'oktora': 1168, 'sirma': 1169, 'nikawati': 1170, 'sutomo': 1171, 'ega': 1172, 'bagas': 1173, 'syahdan': 1174, 'herlini': 1175, 'etri': 1176, 'widianti': 1177, 'farianti': 1178, 'batara': 1179, 'sena': 1180, 'aprillia': 1181, 'wardani': 1182, 'zakiyyah': 1183, 'munirul': 1184, 'ikhwan': 1185, 'baniyah': 1186, 'sinaga': 1187, 'aliyatul': 1188, \"mu'afa\": 1189, 'marsha': 1190, 'clarabell': 1191, 'duwi': 1192, 'kusniah': 1193, 'haykal': 1194, 'wilmaini': 1195, 'munik': 1196, 'suherianto': 1197, 'mugi': 1198, 'wiyono': 1199, 'dianisya': 1200, 'artika': 1201, 'khafidhotus': 1202, 'sany': 1203, 'selly': 1204, 'widiyanti': 1205, 'legiyem': 1206, 'kuswanto': 1207, 'lailatun': 1208, 'nadiroh': 1209, 'triyoga': 1210, 'sp': 1211, 'suwarti': 1212, 'prihandini': 1213, 'devitri': 1214, 'khalid': 1215, 'ningtyas': 1216, 'turhadi': 1217, 'dava': 1218, 'ananta': 1219, 'fendi': 1220, 'selistiawan': 1221, 'tentrem': 1222, 'miftachul': 1223, 'sukandi': 1224, 'jumar': 1225, 'yofaldi': 1226, 'laksmana': 1227, 'asnur': 1228, 'rachel': 1229, 'rumyati': 1230, 'latep': 1231, 'tukijo': 1232, \"rifa'\": 1233, 'i': 1234, 'ferwati': 1235, 'dion': 1236, 'sriyati': 1237, 'diky': 1238, 'handriansyah': 1239, 'linda': 1240, 'anggeraini': 1241, 'kuniran': 1242, 'vicky': 1243, 'vernando': 1244, 'dasta': 1245, 'suparjo': 1246, 'thovanni': 1247, 'jogga': 1248, 'syarif': 1249, 'maksum': 1250, 'sugondo': 1251, 'jufianto': 1252, 'henri': 1253, 'dzulqarnain': 1254, 'sunusi': 1255, 'sutanto': 1256, 'nursyamsi': 1257, 'winarti': 1258, 'nurana': 1259, 'trianto': 1260, 'atun': 1261, 'sutiti': 1262, 'nuril': 1263, 'kafa': 1264, 'raka': 1265, 'agustiar': 1266, 'rachmawati': 1267, 'sungkono': 1268, 'zidan': 1269, 'syahdar': 1270, 'mardiansyah': 1271, 'soni': 1272, 'devina': 1273, 'deny': 1274, 'gustriansyah': 1275, 'sugini': 1276, 'jamilatun': 1277, 'aidah': 1278, 'rahmah': 1279, 'tania': 1280, 'rahmadhini': 1281, 'prayogi': 1282, 'budiani': 1283, 'gustian': 1284, 'imania': 1285, 'azzahrah': 1286, 'napsiyah': 1287, 'astri': 1288, 'stiawaty': 1289, 'destria': 1290, 'membrane': 1291, 'sugiono': 1292, 'masithoh': 1293, 'anfina': 1294, 'hantoro': 1295, 'widjoyo': 1296, 'sahid': 1297, 'mufiroh': 1298, 'ganda': 1299, 'wilaga': 1300, 'andrianto': 1301, 'pri': 1302, 'saniri': 1303, 'katmini': 1304, 'nunit': 1305, 'alfian': 1306, 'shani': 1307, 'sutarsih': 1308, 'calvin': 1309, 'misriyah': 1310, 'tessa': 1311, 'fatiwi': 1312, 'uji': 1313, 'ifandy': 1314, 'samiyah': 1315, 'syahza': 1316, 'pranowo': 1317, 'ratu': 1318, 'salsabilah': 1319, 'frans': 1320, 'b': 1321, 'jaya': 1322, 'zalukhu': 1323, 'makruf': 1324, 'eti': 1325, 'nurcahyani': 1326, 'kamiah': 1327, 'darsono': 1328, 'poniyem': 1329, 'alayyubi': 1330, 'romadon': 1331, 'kharisma': 1332, 'mufizar': 1333, 'ilyas': 1334, 'qomariyah': 1335, 'ridwan': 1336, 'jamaludin': 1337, 'rifky': 1338, 'bangkit': 1339, 'syuhada': 1340, 'hasannudin': 1341, 'sulanggeng': 1342, 'candrawati': 1343, \"al'\": 1344, 'qoriah': 1345, 'darsini': 1346, 'budiman': 1347, 'wasyaraffa': 1348, 'hafiz': 1349, 'sali': 1350, 'sati': 1351, 'rusdianto': 1352, 'nadrul': 1353, 'walid': 1354, 'thoha': 1355, 'ferry': 1356, 'ramdan': 1357, 'afrianti': 1358, 'bilal': 1359, 'zaelani': 1360, 'masitoh': 1361, 'prayitno': 1362, 'gusfan': 1363, 'hutapea': 1364, 'rizkie': 1365, 'hafizzah': 1366, 'raffi': 1367, 'sobron': 1368, 'annafi': 1369, 'junprisa': 1370, 'muhyadi': 1371, 'shofiyyatun': 1372, 'dzakiroh': 1373, 'resi': 1374, 'septiani': 1375, 'suyudi': 1376, 'sufiyani': 1377, 'ujang': 1378, 'umin': 1379, 'ruhdiansyah': 1380, 'elvi': 1381, 'khasana': 1382, 'maslikhah': 1383, 'purwadinata': 1384, 'ellenna': 1385, 'irpan': 1386, 'vebri': 1387, 'margani': 1388, 'nutria': 1389, 'andreansyah': 1390, 'tarun': 1391, 'muspiyah': 1392, 'kasrun': 1393, 'sanmiadi': 1394, 'watimin': 1395, 'hijrah': 1396, 'sapudin': 1397, 'pamungkas': 1398, 'abiyyu': 1399, 'habib': 1400, 'hidayaturrohman': 1401, 'hasinul': 1402, 'fikqih': 1403, 'raditya': 1404, 'alfarabi': 1405, 'muhamat': 1406, 'maelyza': 1407, 'aqra': 1408, 'nabiha': 1409, 'munawaroh': 1410, 'rohimin': 1411, 'karmidi': 1412, 'anto': 1413, 'sudiro': 1414, 'choiriyah': 1415, 'sumardi': 1416, 'nafia': 1417, 'dimaz': 1418, 'nurtriana': 1419, 'yuliastuti': 1420, 'inggar': 1421, 'wangi': 1422, 'teresno': 1423, 'azmeer': 1424, 'tian': 1425, 'hardono': 1426, 'kirana': 1427, 'mayafro': 1428, 'misdianto': 1429, 'agatha': 1430, 'christina': 1431, 'feby': 1432, 'rosiawan': 1433, 'purwaningsih': 1434, 'fairuzi': 1435, 'zaenap': 1436, 'khoirunisa': 1437, 'yati': 1438, 'susiani': 1439, 'munawar': 1440, 'murtini': 1441, 'chantika': 1442, 'gurning': 1443, 'diansyah': 1444, 'suwandi': 1445, 'binar': 1446, 'ribut': 1447, 'prio': 1448, 'kustanto': 1449, 'mundakir': 1450, 'masruroh': 1451, 'khoiri': 1452, 'barrak': 1453, 'asmani': 1454, 'nuriatik': 1455, 'afif': 1456, 'azzuhri': 1457, 'ady': 1458, 'suliatun': 1459, 'ratifa': 1460, 'naila': 1461, 'aisha': 1462, 'syamsul': 1463, 'wijayanto': 1464, 'junaeri': 1465, 'rinaldi': 1466, 'rasman': 1467, 'sharafika': 1468, 'imaroh': 1469, 'nasirudin': 1470, 'suritno': 1471, 'seli': 1472, 'hapti': 1473, 'anggara': 1474, 'debby': 1475, 'jayadi': 1476, 'mansur': 1477, 'irmayani': 1478, 'tesa': 1479, 'rismiani': 1480, 'mamiati': 1481, 'ebenheizer': 1482, 'ismiyati': 1483, 'salma': 1484, 'nusaybah': 1485, 'rhamasya': 1486, 'damar': 1487, 'sukadi': 1488, 'isni': 1489, 'setiawati': 1490, 'fadana': 1491, 'harsono': 1492, 'indriani': 1493, 'saritsha': 1494, 'neza': 1495, 'atiah': 1496, 'azzaroh': 1497, 'dio': 1498, 'abdilah': 1499, 'martono': 1500, 'halimah': 1501, 'alaydrus': 1502, 'rangga': 1503, 'cipto': 1504, 'mardiyyat': 1505, 'fadliellah': 1506, 'hati': 1507, 'jakawendra': 1508, 'arinda': 1509, 'franwijaya': 1510, 'wiwit': 1511, 'widia': 1512, 'zaenudin': 1513, 'megawati': 1514, 'soekarno': 1515, 'ulfiah': 1516, 'sudibyo': 1517, 'asminah': 1518, 'pebri': 1519, 'nurmansyah': 1520, 'yovita': 1521, 'dwiki': 1522, 'apsyarin': 1523, 'solihatin': 1524, 'syahbana': 1525, 'andira': 1526, 'wahidi': 1527, 'lisa': 1528, 'yunita': 1529, 'sulasikin': 1530, 'nasukah': 1531, 'elisnawati': 1532, 'muhni': 1533, 'tomi': 1534, 'ramdani': 1535, 'aura': 1536, 'zakaria': 1537, 'azuwa': 1538, 'alkholif': 1539, 'nasib': 1540, 'elin': 1541, 'turlaeni': 1542, 'andreyan': 1543, 'ricki': 1544, 'meili': 1545, 'arfian': 1546, 'bustami': 1547, 'benni': 1548, 'bin': 1549, 'tukini': 1550, 'misman': 1551, 'norji': 1552, 'wirandi': 1553, 'hikmawan': 1554, 'aril': 1555, 'alania': 1556, 'faizin': 1557, 'hendrik': 1558, 'sumartini': 1559, 'rubini': 1560, 'khofia': 1561, 'marpoah': 1562, 'ponijan': 1563, 'parni': 1564, 'hetik': 1565, 'murdiansyah': 1566, 'gandhi': 1567, 'davit': 1568, 'retno': 1569, 'adif': 1570, 'zaldiansyah': 1571, 'widiastuti': 1572, 'mujiatun': 1573, 'suwarsih': 1574, 'agustiando': 1575, 'redyansyah': 1576, 'mudrikoh': 1577, 'tawirja': 1578, 'srini': 1579, 'ach': 1580, 'moehaimin': 1581, 'mhd': 1582, 'yunus': 1583, 'rachmat': 1584, 'rahmad': 1585, 'erwin': 1586, 'wibisono': 1587, 'fitriyani': 1588, 'khuzaimah': 1589, 'saprudin': 1590, 'sudarwan': 1591, 'zulvan': 1592, 'arfa': 1593, 'syazwan': 1594, 'ihza': 1595, 'fahrezi': 1596, 'sutarmi': 1597, 'wagirin': 1598, 'srianda': 1599, 'ami': 1600, 'mujiriyanto': 1601, 'munib': 1602, 'abdurohman': 1603, 'rima': 1604, 'suwono': 1605, 'meila': 1606, 'nurhidayati': 1607, 'jaemah': 1608, 'setianingsih': 1609, 'devika': 1610, 'eky': 1611, 'sulistia': 1612, 'hafizhan': 1613, 'shidqi': 1614, 'izha': 1615, 'perdana': 1616, 'swarti': 1617, 'resa': 1618, 'aspuri': 1619, 'eriyani': 1620, 'waluyo': 1621, 'salim': 1622, 'dessy': 1623, 'masdianata': 1624, 'p': 1625, 'heri': 1626, 'auliandra': 1627, 'erianto': 1628, 'amanda': 1629, 'husnia': 1630, 'feni': 1631, 'shynta': 1632, 'afitri': 1633, 'arifudin': 1634, 'fahma': 1635, 'deriya': 1636, 'khamidah': 1637, 'kenzi': 1638, 'oky': 1639, 'hariri': 1640, 'warhan': 1641, 'nurhalipah': 1642, 'rayhan': 1643, 'rudiyanto': 1644, 'irham': 1645, 'saiman': 1646, 'ghofur': 1647, 'pangidoan': 1648, 'afani': 1649, 'mabruro': 1650, 'ardonis': 1651, 'shecylia': 1652, 'harum': 1653, 'klodia': 1654, 'maemunah': 1655, 'mardiansah': 1656, 'kusmiyati': 1657, 'aisah': 1658, 'lilik': 1659, 'mujiati': 1660, 'pagiriana': 1661, 'cheery': 1662, 'arnolisa': 1663, 'nurshena': 1664, 'priyadi': 1665, 'zamrud': 1666, 'mahfur': 1667, 'hasim': 1668, \"as'ari\": 1669, 'hanifatun': 1670, 'nasyroh': 1671, 'rikza': 1672, 'rohmana': 1673, 'yusman': 1674, 'deswanto': 1675, 'd': 1676, 'vega': 1677, 'miftaqul': 1678, 'devia': 1679, 'mayang': 1680, 'kotimah': 1681, 'alfaz': 1682, 'mistin': 1683, 'jalil': 1684, 'rini': 1685, 'nirwani': 1686, 'abu': 1687, 'jamil': 1688, 'fairi': 1689, 'fatonah': 1690, 'febriana': 1691, 'suhendro': 1692, 'novrida': 1693, 'padli': 1694, 'nofrizal': 1695, \"nasta'\": 1696, 'inu': 1697, 'nuraini': 1698, 'rejeki': 1699, 'catur': 1700, 'sutiman': 1701, 'diah': 1702, 'feny': 1703, 'afrisilia': 1704, 'muawam': 1705, 'supriyo': 1706, 'sufitria': 1707, 'napis': 1708, 'zuhdi': 1709, 'febriant': 1710, 'nugraha': 1711, 'rahmadi': 1712, 'gusri': 1713, 'priyanto': 1714, 'sanadi': 1715, 'saleh': 1716, 'devi': 1717, 'noviaty': 1718, 'rukiyah': 1719, 'anthony': 1720, 'hambali': 1721, 'martini': 1722, 'sarminah': 1723, \"izzatunnisa'\": 1724, 'leginem': 1725, 'ayyub': 1726, 'novrizal': 1727, 'chudori': 1728, 'wahyuti': 1729, 'sudirman': 1730, 'alan': 1731, 'sugianto': 1732, 'kokom': 1733, 'komariah': 1734, 'riyanto': 1735, 'qasanah': 1736, 'rastina': 1737, 'adella': 1738, 'apriyanto': 1739, 'niken': 1740, 'juni': 1741, 'savitri': 1742, 'nawati': 1743, 'proklamanto': 1744, 'roni': 1745, 'fadhila': 1746, 'rahmansyah': 1747, 'fadli': 1748, 'raynaldi': 1749, 'asef': 1750, 'saifulloh': 1751, 'alfin': 1752, 'shallyn': 1753, 'agustin': 1754, 'hernawan': 1755, 'azzahra': 1756, 'gayatri': 1757, 'refi': 1758, \"si'in\": 1759, 'fathir': 1760, 'firmananda': 1761, 'astika': 1762, 'hasnah': 1763, 'elfina': 1764, 'warda': 1765, 'sunarto': 1766, 'miyanto': 1767, 'herianda': 1768, 'subaweh': 1769, 'khayati': 1770, 'mariansyah': 1771, 'l': 1772, 'sukirlan': 1773, 'isnaini': 1774, 'fauziati': 1775, 'nurfajri': 1776, 'niwan': 1777, 'dyah': 1778, 'ertin': 1779, 'suparyanto': 1780, 'parjo': 1781, 'giovani': 1782, 'aljawi': 1783, 'syafia': 1784, 'zahra': 1785, 'aprelia': 1786, 'sujarman': 1787, 'subekti': 1788, 'sarno': 1789, 'izzati': 1790, 'klara': 1791, 'shintya': 1792, 'khoiru': 1793, 'ahsanul': 1794, \"mubtadi'in\": 1795, 'nailul': 1796, 'muflihah': 1797, 'luna': 1798, 'nurpauliani': 1799, 'mustakim': 1800, 'tumiran': 1801, 'katiman': 1802, 'andra': 1803, 'reyhan': 1804, 'pradipta': 1805, 'alfaqih': 1806, 'ezra': 1807, 'tangkudung': 1808, 'safiq': 1809, 'heryanto': 1810, 'jarwo': 1811, 'pratitis': 1812, 'mujianto': 1813, 'afandi': 1814, 'salami': 1815, 'sadra': 1816, 'wilis': 1817, 'alidrus': 1818, 'noer': 1819, 'halizzah': 1820, 'muliadi': 1821, 'mursino': 1822, 'fathi': 1823, 'sidiq': 1824, 'mulyana': 1825, 'hafitz': 1826, 'miseri': 1827, 'jessica': 1828, 'kadirin': 1829, 'sutinem': 1830, 'souvil': 1831, 'anam': 1832, 'yayu': 1833, 'ikhsanudin': 1834, 'hakiki': 1835, 'misti': 1836, 'nabilatul': 1837, 'seftiani': 1838, 'aeni': 1839, 'nirmanto': 1840, 'naimatul': 1841, 'masruboh': 1842, 'darminah': 1843, 'hadimah': 1844, 'bimo': 1845, 'kusumo': 1846, 'yudo': 1847, 'romi': 1848, 'endika': 1849, 'silvira': 1850, 'rivania': 1851, 'sahlan': 1852, 'deddy': 1853, 'desta': 1854, 'setiono': 1855, 'omya': 1856, 'ulta': 1857, 'hafidhlun': 1858, 'ragil': 1859, 'nendra': 1860, 'ardiansah': 1861, 'kasturi': 1862, 'sudarseh': 1863, 'umar': 1864, 'said': 1865, 'manto': 1866, 'gumes': 1867, 'nanang': 1868, 'darmi': 1869, 'riyan': 1870, 'asep': 1871, 'kurniadi': 1872, 'suranto': 1873, 'habiba': 1874, 'ulfah': 1875, 'listiani': 1876, 'lolita': 1877, 'devy': 1878, 'permatasari': 1879, 'ratnasari': 1880, 'raditia': 1881, 'rina': 1882, 'pangastuti': 1883, 'aissyah': 1884, 'zhaskia': 1885, 'gilang': 1886, 'bekti': 1887, 'arbaiyah': 1888, 'donna': 1889, 'febriani': 1890, 'fauzar': 1891, 'shoffan': 1892, 'fath': 1893, 'irpandi': 1894, 'mudarman': 1895, 'winata': 1896, 'jefri': 1897, 'setiadi': 1898, 'rubiyati': 1899, 'ibnuyohanzah': 1900, 'afian': 1901, 'yudhistira': 1902, 'sry': 1903, 'dhina': 1904, 'pohan': 1905, 'meldiani': 1906, 'baihaqi': 1907, 'immatul': 1908, 'alwan': 1909, 'supangat': 1910, 'baedowi': 1911, 'ganti': 1912, 'kasanah': 1913, 'cita': 1914, 'rani': 1915, 'kasnanto': 1916, 'miswen': 1917, 'ria': 1918, 'rasela': 1919, 'zam': 1920, 'zami': 1921, 'badriah': 1922, 'merliana': 1923, 'sugiarto': 1924, 'ilda': 1925, 'ikhwana': 1926, 'habzer': 1927, 'maisera': 1928, 'murdiono': 1929, 'anissa': 1930, 'sulistiyani': 1931, 'rohatun': 1932, 'adrian': 1933, 'karno': 1934, 'purwo': 1935, 'mulyati': 1936, 'alfiyatu': 1937, 'zahroh': 1938, 'misiyani': 1939, 'zacky': 1940, 'nuramsah': 1941, 'sariji': 1942, 'dahlia': 1943, 'afrian': 1944, 'djugi': 1945, 'diski': 1946, 'wayudiyansah': 1947, 'siyami': 1948, 'tantri': 1949, 'az': 1950, 'zahri': 1951, 'sakiyah': 1952, 'taulany': 1953, 'risnanto': 1954, 'aditya': 1955, 'hatta': 1956, 'amal': 1957, 'styawaty': 1958, 'tasmiyatun': 1959, 'muntofingah': 1960, 'kholik': 1961, 'gazalba': 1962, 'aprila': 1963, 'suliyatin': 1964, 'khalim': 1965, 'muntikawati': 1966, 'diyahuddin': 1967, 'makhtum': 1968, 'eriansyah': 1969, 'diwantara': 1970, 'anugrah': 1971, 'mahera': 1972, 'azzahwa': 1973, 'dayu': 1974, 'sandro': 1975, 'girin': 1976, 'sumilan': 1977, 'mukarom': 1978, 'alfath': 1979, 'azijah': 1980, 'hardi': 1981, 'pikril': 1982, 'asshadiq': 1983, 'bakti': 1984, 'fiyandana': 1985, 'laily': 1986, 'mufarokah': 1987, 'utomo': 1988, 'doni': 1989, 'sanjaya': 1990, 'aufa': 1991, 'rofi': 1992, 'daryani': 1993, 'eliyuswisnawaty': 1994, 'kamaluddin': 1995, 'suhadi': 1996, 'rafiani': 1997, 'nurliani': 1998, 'sekar': 1999, 'wijiyanti': 2000, 'dinar': 2001, 'gihon': 2002, 'juliman': 2003, 'zukri': 2004, 'prasetiyo': 2005, 'afni': 2006, 'suliati': 2007, 'rindi': 2008, 'septia': 2009, 'yanmilani': 2010, 'khusnul': 2011, 'khotimah': 2012, 'hamidah': 2013, 'rindy': 2014, 'ngatina': 2015, 'toppiq': 2016, 'nuriah': 2017, 'zen': 2018, 'mahrom': 2019, 'sudaryanto': 2020, 'zaenab': 2021, 'rumsiyah': 2022, 'liyanti': 2023, 'sutarini': 2024, 'nurimah': 2025, 'rebo': 2026, 'febrian': 2027, 'kholifah': 2028, 'samijem': 2029, 'rino': 2030, 'egi': 2031, 'pirdaus': 2032, 'ulfi': 2033, 'alifatul': 2034, 'musaadah': 2035, 'narjam': 2036, 'revanno': 2037, 'muhyidin': 2038, 'ihwanul': 2039, 'muslimin': 2040, 'suprapti': 2041, 'ariyan': 2042, 'erick': 2043, 'tohir': 2044, 'anies': 2045, 'rasyid': 2046, 'baswedan': 2047, 'diva': 2048, 'farizky': 2049, 'yusi': 2050, 'andriyani': 2051, 'usthalay': 2052, 'redha': 2053, 'samsuri': 2054, 'yusrianto': 2055, 'ratih': 2056, 'purwasih': 2057, 'thamrin': 2058, 'muttaqin': 2059, 'kelvin': 2060, 'naszril': 2061, 'rozakiah': 2062, 'herzavina': 2063, 'nony': 2064, 'chrisnayanti': 2065, 'zaenuri': 2066, 'cia': 2067, 'rosman': 2068, 'suryanto': 2069, 'maryani': 2070, 'lestanto': 2071, 'saim': 2072, 'oktafiah': 2073, 'suparman': 2074, 'afifah': 2075, 'mariani': 2076, 'giarsih': 2077, 'arviyanti': 2078, \"sa'\": 2079, 'dah': 2080, 'okta': 2081, 'ionika': 2082, 'abas': 2083, 'chayati': 2084, 'laeli': 2085, 'nurhikmah': 2086, 'bintiah': 2087, 'azwar': 2088, 'anas': 2089, 'kasmini': 2090, 'defri': 2091, 'abdurrahman': 2092, 'yudiatma': 2093, 'adrion': 2094, 'harisun': 2095, 'mutingah': 2096, 'murjiatun': 2097, 'mustopo': 2098, 'pursito': 2099, 'maslihatun': 2100, 'giono': 2101, 'purwito': 2102, 'rasmo': 2103, 'azza': 2104, 'nabilla': 2105, 'ernu': 2106, 'kainen': 2107, 'maryono': 2108, 'sholikhim': 2109, 'suyatun': 2110, 'ngadiman': 2111, 'haris': 2112, 'joni': 2113, 'kartinus': 2114, 'wartinah': 2115, 'sanem': 2116, 'ayla': 2117, 'indun': 2118, 'fadilla': 2119, 'sangun': 2120, 'karisun': 2121, 'waelan': 2122, 'kasianto': 2123, 'kuntadhi': 2124, 'biola': 2125, 'gunti': 2126, 'masuko': 2127, 'komariyah': 2128, 'maryatun': 2129, 'fico': 2130, 'komsidah': 2131, 'diram': 2132, 'ain': 2133, 'kinanti': 2134, 'hali': 2135, 'maskur': 2136, 'sefiyan': 2137, 'madila': 2138, 'rhesma': 2139, 'naca': 2140, 'fahrezy': 2141, 'winanto': 2142, 'surahman': 2143, 'titis': 2144, 'brigida': 2145, 'silva': 2146, \"lulu'\": 2147, 'fasetyo': 2148, 'nada': 2149, 'nisrina': 2150, 'nurlaela': 2151, 'marini': 2152, 'tarikhul': 2153, 'mahfudz': 2154, 'hartini': 2155, 'mariyauddin': 2156, 'marwan': 2157, 'ajo': 2158, 'bendri': 2159, 'apriliando': 2160, 'fadila': 2161, 'ramadan': 2162, 'apriliana': 2163, 'kholishah': 2164, 'luhur': 2165, 'fathurrozi': 2166, 'aman': 2167, 'supargi': 2168, 'juwarno': 2169, 'juminah': 2170, 'rifki': 2171, 'irawan': 2172, 'lamsyah': 2173}\n"
          ]
        }
      ]
    },
    {
      "cell_type": "code",
      "source": [
        "sequence_train = tokenizer.texts_to_sequences(x_train)\n",
        "sequence_test = tokenizer.texts_to_sequences(x_test)"
      ],
      "metadata": {
        "id": "9ilKFDKkRg3M"
      },
      "execution_count": 88,
      "outputs": []
    },
    {
      "cell_type": "code",
      "source": [
        "from tensorflow.keras.preprocessing.sequence import pad_sequences\n",
        "\n",
        "padded_train = pad_sequences(sequence_train,\n",
        "                             padding='post',\n",
        "                             maxlen=4,\n",
        "                             truncating='post')\n",
        "\n",
        "padded_test = pad_sequences(sequence_test,\n",
        "                            padding='post',\n",
        "                            maxlen=4,\n",
        "                            truncating='post')"
      ],
      "metadata": {
        "id": "JsvEqdYgR3yX"
      },
      "execution_count": 89,
      "outputs": []
    },
    {
      "cell_type": "code",
      "source": [
        "import tensorflow as tf\n",
        "\n",
        "model = tf.keras.Sequential([\n",
        "    tf.keras.layers.Embedding(input_dim=5000, output_dim=32),\n",
        "    tf.keras.layers.LSTM(64),\n",
        "    tf.keras.layers.Flatten(),\n",
        "    tf.keras.layers.Dropout(0.5),\n",
        "    tf.keras.layers.Dense(64, activation='relu'),\n",
        "    tf.keras.layers.Dense(1, activation='sigmoid')\n",
        "])"
      ],
      "metadata": {
        "id": "YEDkdBqgTmuO"
      },
      "execution_count": 90,
      "outputs": []
    },
    {
      "cell_type": "code",
      "source": [
        "model.summary()"
      ],
      "metadata": {
        "colab": {
          "base_uri": "https://localhost:8080/"
        },
        "id": "Lu_zVm0rUJHC",
        "outputId": "1161c5cc-3026-48d9-a933-31b65eeb879b"
      },
      "execution_count": 91,
      "outputs": [
        {
          "output_type": "stream",
          "name": "stdout",
          "text": [
            "Model: \"sequential_9\"\n",
            "_________________________________________________________________\n",
            " Layer (type)                Output Shape              Param #   \n",
            "=================================================================\n",
            " embedding_10 (Embedding)    (None, None, 32)          160000    \n",
            "                                                                 \n",
            " lstm_12 (LSTM)              (None, 64)                24832     \n",
            "                                                                 \n",
            " flatten_8 (Flatten)         (None, 64)                0         \n",
            "                                                                 \n",
            " dropout_9 (Dropout)         (None, 64)                0         \n",
            "                                                                 \n",
            " dense_21 (Dense)            (None, 64)                4160      \n",
            "                                                                 \n",
            " dense_22 (Dense)            (None, 1)                 65        \n",
            "                                                                 \n",
            "=================================================================\n",
            "Total params: 189,057\n",
            "Trainable params: 189,057\n",
            "Non-trainable params: 0\n",
            "_________________________________________________________________\n"
          ]
        }
      ]
    },
    {
      "cell_type": "code",
      "source": [
        "model.compile(loss='binary_crossentropy',\n",
        "              optimizer='Adam',\n",
        "              metrics=['accuracy'])"
      ],
      "metadata": {
        "id": "1S9stGIwULFR"
      },
      "execution_count": 92,
      "outputs": []
    },
    {
      "cell_type": "code",
      "source": [
        "import tensorflow as tf\n",
        "\n",
        "class myCallback(tf.keras.callbacks.Callback):\n",
        "  def on_epoch_end(self, epoch, logs={}):\n",
        "    if(logs.get('accuracy')>0.99):\n",
        "      print(\"\\nAkurasi model telah mencapai >99%\")\n",
        "      self.model.stop_training = True\n",
        "\n",
        "callback_model = myCallback()      "
      ],
      "metadata": {
        "id": "D-WeU24fUjA7"
      },
      "execution_count": 93,
      "outputs": []
    },
    {
      "cell_type": "code",
      "source": [
        "riwayat_model = model.fit(padded_train, y_train,\n",
        "                          epochs = 10,\n",
        "                          validation_data = (padded_test, y_test),\n",
        "                          callbacks=[callback_model],\n",
        "                          verbose=2)"
      ],
      "metadata": {
        "colab": {
          "base_uri": "https://localhost:8080/"
        },
        "id": "XmIkjue6VGVV",
        "outputId": "bea5ab8a-4d4c-4dc7-a781-084a77667fc9"
      },
      "execution_count": 94,
      "outputs": [
        {
          "output_type": "stream",
          "name": "stdout",
          "text": [
            "Epoch 1/10\n",
            "56/56 - 4s - loss: 0.6876 - accuracy: 0.5572 - val_loss: 0.6829 - val_accuracy: 0.5471 - 4s/epoch - 78ms/step\n",
            "Epoch 2/10\n",
            "56/56 - 1s - loss: 0.5126 - accuracy: 0.7231 - val_loss: 0.4097 - val_accuracy: 0.7937 - 522ms/epoch - 9ms/step\n",
            "Epoch 3/10\n",
            "56/56 - 1s - loss: 0.0950 - accuracy: 0.9725 - val_loss: 0.4970 - val_accuracy: 0.7982 - 507ms/epoch - 9ms/step\n",
            "Epoch 4/10\n",
            "\n",
            "Akurasi model telah mencapai >99%\n",
            "56/56 - 1s - loss: 0.0352 - accuracy: 0.9944 - val_loss: 0.5160 - val_accuracy: 0.7937 - 505ms/epoch - 9ms/step\n"
          ]
        }
      ]
    },
    {
      "cell_type": "code",
      "source": [
        "# Membuat plot akurasi dari model\n",
        "\n",
        "import matplotlib.pyplot as plt\n",
        "\n",
        "plt.plot(riwayat_model.history['accuracy'])\n",
        "plt.plot(riwayat_model.history['val_accuracy'])\n",
        "plt.title('Akurasi Model')\n",
        "plt.ylabel('accuracy')\n",
        "plt.xlabel('epoch ke-')\n",
        "plt.legend(['train', 'test'], loc = 'lower right')\n",
        "plt.show()"
      ],
      "metadata": {
        "colab": {
          "base_uri": "https://localhost:8080/",
          "height": 295
        },
        "id": "WpGx0cOgVgUt",
        "outputId": "6fefe4a0-cb22-4225-e862-1c00849c39f0"
      },
      "execution_count": 95,
      "outputs": [
        {
          "output_type": "display_data",
          "data": {
            "text/plain": [
              "<Figure size 432x288 with 1 Axes>"
            ],
            "image/png": "[encoded data removed]"
          },
          "metadata": {
            "needs_background": "light"
          }
        }
      ]
    },
    {
      "cell_type": "code",
      "source": [
        "# Membuat plot loss dari model\n",
        "\n",
        "import matplotlib.pyplot as plt\n",
        "\n",
        "plt.plot(riwayat_model.history['loss'])\n",
        "plt.plot(riwayat_model.history['val_loss'])\n",
        "plt.title('Loss Model')\n",
        "plt.ylabel('loss')\n",
        "plt.xlabel('epoch ke-')\n",
        "plt.legend(['train', 'test'], loc = 'upper right')\n",
        "plt.show()"
      ],
      "metadata": {
        "colab": {
          "base_uri": "https://localhost:8080/",
          "height": 295
        },
        "id": "sgCfusjIf5jB",
        "outputId": "8b6677f1-58bb-47ff-85f1-184c8e116336"
      },
      "execution_count": 96,
      "outputs": [
        {
          "output_type": "display_data",
          "data": {
            "text/plain": [
              "<Figure size 432x288 with 1 Axes>"
            ],
            "image/png": "[encoded data removed]"
          },
          "metadata": {
            "needs_background": "light"
          }
        }
      ]
    },
    {
      "cell_type": "code",
      "source": [],
      "metadata": {
        "id": "MRQWS4Esf-sT"
      },
      "execution_count": null,
      "outputs": []
    }
  ]
}