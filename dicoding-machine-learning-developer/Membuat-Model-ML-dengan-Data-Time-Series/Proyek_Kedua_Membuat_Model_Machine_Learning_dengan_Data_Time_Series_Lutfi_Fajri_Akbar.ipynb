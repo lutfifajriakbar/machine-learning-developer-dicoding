{
  "nbformat": 4,
  "nbformat_minor": 0,
  "metadata": {
    "colab": {
      "provenance": [],
      "collapsed_sections": []
    },
    "kernelspec": {
      "name": "python3",
      "display_name": "Python 3"
    },
    "language_info": {
      "name": "python"
    },
    "accelerator": "GPU",
    "gpuClass": "standard"
  },
  "cells": [
    {
      "cell_type": "markdown",
      "source": [
        "# Proyek Time Series Harga Alpukat dari 2015-2020"
      ],
      "metadata": {
        "id": "UxLO7RWzhkhd"
      }
    },
    {
      "cell_type": "markdown",
      "source": [
        "# Data Diri\n",
        "### **Nama** : \n",
        "Lutfi Fajri Akbar\n",
        "### **No. Register** :\n",
        "1494037162101-2551\n",
        "### **Username Dicoding**:\n",
        "lutfifajri02\n",
        "### **E-mail**:\n",
        "ltfffajri@gmail.com"
      ],
      "metadata": {
        "id": "dZSKJlL1hqgd"
      }
    },
    {
      "cell_type": "markdown",
      "source": [
        "# Codelab"
      ],
      "metadata": {
        "id": "N4Cf6MzIhsxI"
      }
    },
    {
      "cell_type": "code",
      "source": [
        "!pip install Kaggle\n",
        "!mkdir ~/.kaggle"
      ],
      "metadata": {
        "colab": {
          "base_uri": "https://localhost:8080/"
        },
        "id": "7CUzRP9V00y9",
        "outputId": "f6c06e27-72c6-4344-9dfb-ab64908d12cb"
      },
      "execution_count": 1,
      "outputs": [
        {
          "output_type": "stream",
          "name": "stdout",
          "text": [
            "Looking in indexes: https://pypi.org/simple, https://us-python.pkg.dev/colab-wheels/public/simple/\n",
            "Requirement already satisfied: Kaggle in /usr/local/lib/python3.7/dist-packages (1.5.12)\n",
            "Requirement already satisfied: certifi in /usr/local/lib/python3.7/dist-packages (from Kaggle) (2022.9.24)\n",
            "Requirement already satisfied: tqdm in /usr/local/lib/python3.7/dist-packages (from Kaggle) (4.64.1)\n",
            "Requirement already satisfied: python-dateutil in /usr/local/lib/python3.7/dist-packages (from Kaggle) (2.8.2)\n",
            "Requirement already satisfied: urllib3 in /usr/local/lib/python3.7/dist-packages (from Kaggle) (1.24.3)\n",
            "Requirement already satisfied: python-slugify in /usr/local/lib/python3.7/dist-packages (from Kaggle) (6.1.2)\n",
            "Requirement already satisfied: six>=1.10 in /usr/local/lib/python3.7/dist-packages (from Kaggle) (1.15.0)\n",
            "Requirement already satisfied: requests in /usr/local/lib/python3.7/dist-packages (from Kaggle) (2.23.0)\n",
            "Requirement already satisfied: text-unidecode>=1.3 in /usr/local/lib/python3.7/dist-packages (from python-slugify->Kaggle) (1.3)\n",
            "Requirement already satisfied: idna<3,>=2.5 in /usr/local/lib/python3.7/dist-packages (from requests->Kaggle) (2.10)\n",
            "Requirement already satisfied: chardet<4,>=3.0.2 in /usr/local/lib/python3.7/dist-packages (from requests->Kaggle) (3.0.4)\n"
          ]
        }
      ]
    },
    {
      "cell_type": "code",
      "source": [
        "!cp kaggle.json ~/.kaggle/\n",
        "!chmod 600 ~/.kaggle/kaggle.json"
      ],
      "metadata": {
        "id": "LgWIsJbn09qd"
      },
      "execution_count": 2,
      "outputs": []
    },
    {
      "cell_type": "code",
      "source": [
        "!kaggle datasets download -d timmate/avocado-prices-2020"
      ],
      "metadata": {
        "colab": {
          "base_uri": "https://localhost:8080/"
        },
        "id": "-LHn_5D91AVv",
        "outputId": "ab15079f-1c64-482b-93fe-b48f6721fc04"
      },
      "execution_count": 3,
      "outputs": [
        {
          "output_type": "stream",
          "name": "stdout",
          "text": [
            "Downloading avocado-prices-2020.zip to /content\n",
            "\r  0% 0.00/1.13M [00:00<?, ?B/s]\n",
            "\r100% 1.13M/1.13M [00:00<00:00, 162MB/s]\n"
          ]
        }
      ]
    },
    {
      "cell_type": "code",
      "source": [
        "import zipfile, os\n",
        "\n",
        "local_zip = '/content/avocado-prices-2020.zip'\n",
        "zip_ref = zipfile.ZipFile(local_zip, 'r')\n",
        "zip_ref.extractall('/content/avocado-prices-2020')\n",
        "zip_ref.close()"
      ],
      "metadata": {
        "id": "QiffjBPb1HMm"
      },
      "execution_count": 4,
      "outputs": []
    },
    {
      "cell_type": "code",
      "source": [
        "import pandas as pd\n",
        "df = pd.read_csv('/content/avocado-prices-2020/avocado-updated-2020.csv')\n",
        "df.head(20)"
      ],
      "metadata": {
        "id": "Rq8VtRg7jeon",
        "colab": {
          "base_uri": "https://localhost:8080/",
          "height": 1000
        },
        "outputId": "2bbb733b-3e33-4210-8234-01f35331293f"
      },
      "execution_count": 5,
      "outputs": [
        {
          "output_type": "execute_result",
          "data": {
            "text/plain": [
              "          date  average_price  total_volume        4046        4225  \\\n",
              "0   2015-01-04           1.22      40873.28     2819.50    28287.42   \n",
              "1   2015-01-04           1.79       1373.95       57.42      153.88   \n",
              "2   2015-01-04           1.00     435021.49   364302.39    23821.16   \n",
              "3   2015-01-04           1.76       3846.69     1500.15      938.35   \n",
              "4   2015-01-04           1.08     788025.06    53987.31   552906.04   \n",
              "5   2015-01-04           1.29      19137.28     8040.64     6557.47   \n",
              "6   2015-01-04           1.01      80034.32    44562.12    24964.23   \n",
              "7   2015-01-04           1.64       1505.12        1.27     1129.50   \n",
              "8   2015-01-04           1.02     491738.00     7193.87   396752.18   \n",
              "9   2015-01-04           1.83       2192.13        8.66      939.43   \n",
              "10  2015-01-04           1.40     116253.44     3267.97    55693.04   \n",
              "11  2015-01-04           1.73        379.82        0.00       59.82   \n",
              "12  2015-01-04           0.93    5777334.90  2843648.26  2267755.26   \n",
              "13  2015-01-04           1.24     142349.77   107490.73    25711.96   \n",
              "14  2015-01-04           1.19     166006.29    29419.03    47220.75   \n",
              "15  2015-01-04           2.13       2965.62      151.70      882.52   \n",
              "16  2015-01-04           1.11     783068.03    30270.26   550752.19   \n",
              "17  2015-01-04           1.49      17723.17     1189.35    15628.27   \n",
              "18  2015-01-04           0.88     228569.58     3274.30   168764.78   \n",
              "19  2015-01-04           1.34       8764.33      144.47     6921.75   \n",
              "\n",
              "         4770  total_bags  small_bags  large_bags  xlarge_bags          type  \\\n",
              "0       49.90     9716.46     9186.93      529.53         0.00  conventional   \n",
              "1        0.00     1162.65     1162.65        0.00         0.00       organic   \n",
              "2       82.15    46815.79    16707.15    30108.64         0.00  conventional   \n",
              "3        0.00     1408.19     1071.35      336.84         0.00       organic   \n",
              "4    39995.03   141136.68   137146.07     3990.61         0.00  conventional   \n",
              "5      657.48     3881.69     3881.69        0.00         0.00       organic   \n",
              "6     2752.35     7755.62     6064.30     1691.32         0.00  conventional   \n",
              "7        0.00      374.35      186.67      187.68         0.00       organic   \n",
              "8      128.82    87663.13    87406.84      256.29         0.00  conventional   \n",
              "9        0.00     1244.04     1244.04        0.00         0.00       organic   \n",
              "10     109.55    57182.88    57182.88        0.00         0.00  conventional   \n",
              "11       0.00      320.00      320.00        0.00         0.00       organic   \n",
              "12  137479.64   528451.74   477193.38    47882.56      3375.80  conventional   \n",
              "13       2.93     9144.15     9144.15        0.00         0.00       organic   \n",
              "14   38568.95    50797.56    44329.03     6468.53         0.00  conventional   \n",
              "15     905.77     1025.63     1025.63        0.00         0.00       organic   \n",
              "16  124506.10    77539.48    72888.46     4651.02         0.00  conventional   \n",
              "17       0.00      905.55      905.55        0.00         0.00       organic   \n",
              "18    1447.06    55083.44    17525.31    37445.46       112.67  conventional   \n",
              "19       0.00     1698.11      585.96     1112.15         0.00       organic   \n",
              "\n",
              "    year             geography  \n",
              "0   2015                Albany  \n",
              "1   2015                Albany  \n",
              "2   2015               Atlanta  \n",
              "3   2015               Atlanta  \n",
              "4   2015  Baltimore/Washington  \n",
              "5   2015  Baltimore/Washington  \n",
              "6   2015                 Boise  \n",
              "7   2015                 Boise  \n",
              "8   2015                Boston  \n",
              "9   2015                Boston  \n",
              "10  2015     Buffalo/Rochester  \n",
              "11  2015     Buffalo/Rochester  \n",
              "12  2015            California  \n",
              "13  2015            California  \n",
              "14  2015             Charlotte  \n",
              "15  2015             Charlotte  \n",
              "16  2015               Chicago  \n",
              "17  2015               Chicago  \n",
              "18  2015     Cincinnati/Dayton  \n",
              "19  2015     Cincinnati/Dayton  "
            ],
            "text/html": [
              "\n",
              "  <div id=\"df-9df9fa1d-b8ac-4e78-8791-0a20571a563c\">\n",
              "    <div class=\"colab-df-container\">\n",
              "      <div>\n",
              "<style scoped>\n",
              "    .dataframe tbody tr th:only-of-type {\n",
              "        vertical-align: middle;\n",
              "    }\n",
              "\n",
              "    .dataframe tbody tr th {\n",
              "        vertical-align: top;\n",
              "    }\n",
              "\n",
              "    .dataframe thead th {\n",
              "        text-align: right;\n",
              "    }\n",
              "</style>\n",
              "<table border=\"1\" class=\"dataframe\">\n",
              "  <thead>\n",
              "    <tr style=\"text-align: right;\">\n",
              "      <th></th>\n",
              "      <th>date</th>\n",
              "      <th>average_price</th>\n",
              "      <th>total_volume</th>\n",
              "      <th>4046</th>\n",
              "      <th>4225</th>\n",
              "      <th>4770</th>\n",
              "      <th>total_bags</th>\n",
              "      <th>small_bags</th>\n",
              "      <th>large_bags</th>\n",
              "      <th>xlarge_bags</th>\n",
              "      <th>type</th>\n",
              "      <th>year</th>\n",
              "      <th>geography</th>\n",
              "    </tr>\n",
              "  </thead>\n",
              "  <tbody>\n",
              "    <tr>\n",
              "      <th>0</th>\n",
              "      <td>2015-01-04</td>\n",
              "      <td>1.22</td>\n",
              "      <td>40873.28</td>\n",
              "      <td>2819.50</td>\n",
              "      <td>28287.42</td>\n",
              "      <td>49.90</td>\n",
              "      <td>9716.46</td>\n",
              "      <td>9186.93</td>\n",
              "      <td>529.53</td>\n",
              "      <td>0.00</td>\n",
              "      <td>conventional</td>\n",
              "      <td>2015</td>\n",
              "      <td>Albany</td>\n",
              "    </tr>\n",
              "    <tr>\n",
              "      <th>1</th>\n",
              "      <td>2015-01-04</td>\n",
              "      <td>1.79</td>\n",
              "      <td>1373.95</td>\n",
              "      <td>57.42</td>\n",
              "      <td>153.88</td>\n",
              "      <td>0.00</td>\n",
              "      <td>1162.65</td>\n",
              "      <td>1162.65</td>\n",
              "      <td>0.00</td>\n",
              "      <td>0.00</td>\n",
              "      <td>organic</td>\n",
              "      <td>2015</td>\n",
              "      <td>Albany</td>\n",
              "    </tr>\n",
              "    <tr>\n",
              "      <th>2</th>\n",
              "      <td>2015-01-04</td>\n",
              "      <td>1.00</td>\n",
              "      <td>435021.49</td>\n",
              "      <td>364302.39</td>\n",
              "      <td>23821.16</td>\n",
              "      <td>82.15</td>\n",
              "      <td>46815.79</td>\n",
              "      <td>16707.15</td>\n",
              "      <td>30108.64</td>\n",
              "      <td>0.00</td>\n",
              "      <td>conventional</td>\n",
              "      <td>2015</td>\n",
              "      <td>Atlanta</td>\n",
              "    </tr>\n",
              "    <tr>\n",
              "      <th>3</th>\n",
              "      <td>2015-01-04</td>\n",
              "      <td>1.76</td>\n",
              "      <td>3846.69</td>\n",
              "      <td>1500.15</td>\n",
              "      <td>938.35</td>\n",
              "      <td>0.00</td>\n",
              "      <td>1408.19</td>\n",
              "      <td>1071.35</td>\n",
              "      <td>336.84</td>\n",
              "      <td>0.00</td>\n",
              "      <td>organic</td>\n",
              "      <td>2015</td>\n",
              "      <td>Atlanta</td>\n",
              "    </tr>\n",
              "    <tr>\n",
              "      <th>4</th>\n",
              "      <td>2015-01-04</td>\n",
              "      <td>1.08</td>\n",
              "      <td>788025.06</td>\n",
              "      <td>53987.31</td>\n",
              "      <td>552906.04</td>\n",
              "      <td>39995.03</td>\n",
              "      <td>141136.68</td>\n",
              "      <td>137146.07</td>\n",
              "      <td>3990.61</td>\n",
              "      <td>0.00</td>\n",
              "      <td>conventional</td>\n",
              "      <td>2015</td>\n",
              "      <td>Baltimore/Washington</td>\n",
              "    </tr>\n",
              "    <tr>\n",
              "      <th>5</th>\n",
              "      <td>2015-01-04</td>\n",
              "      <td>1.29</td>\n",
              "      <td>19137.28</td>\n",
              "      <td>8040.64</td>\n",
              "      <td>6557.47</td>\n",
              "      <td>657.48</td>\n",
              "      <td>3881.69</td>\n",
              "      <td>3881.69</td>\n",
              "      <td>0.00</td>\n",
              "      <td>0.00</td>\n",
              "      <td>organic</td>\n",
              "      <td>2015</td>\n",
              "      <td>Baltimore/Washington</td>\n",
              "    </tr>\n",
              "    <tr>\n",
              "      <th>6</th>\n",
              "      <td>2015-01-04</td>\n",
              "      <td>1.01</td>\n",
              "      <td>80034.32</td>\n",
              "      <td>44562.12</td>\n",
              "      <td>24964.23</td>\n",
              "      <td>2752.35</td>\n",
              "      <td>7755.62</td>\n",
              "      <td>6064.30</td>\n",
              "      <td>1691.32</td>\n",
              "      <td>0.00</td>\n",
              "      <td>conventional</td>\n",
              "      <td>2015</td>\n",
              "      <td>Boise</td>\n",
              "    </tr>\n",
              "    <tr>\n",
              "      <th>7</th>\n",
              "      <td>2015-01-04</td>\n",
              "      <td>1.64</td>\n",
              "      <td>1505.12</td>\n",
              "      <td>1.27</td>\n",
              "      <td>1129.50</td>\n",
              "      <td>0.00</td>\n",
              "      <td>374.35</td>\n",
              "      <td>186.67</td>\n",
              "      <td>187.68</td>\n",
              "      <td>0.00</td>\n",
              "      <td>organic</td>\n",
              "      <td>2015</td>\n",
              "      <td>Boise</td>\n",
              "    </tr>\n",
              "    <tr>\n",
              "      <th>8</th>\n",
              "      <td>2015-01-04</td>\n",
              "      <td>1.02</td>\n",
              "      <td>491738.00</td>\n",
              "      <td>7193.87</td>\n",
              "      <td>396752.18</td>\n",
              "      <td>128.82</td>\n",
              "      <td>87663.13</td>\n",
              "      <td>87406.84</td>\n",
              "      <td>256.29</td>\n",
              "      <td>0.00</td>\n",
              "      <td>conventional</td>\n",
              "      <td>2015</td>\n",
              "      <td>Boston</td>\n",
              "    </tr>\n",
              "    <tr>\n",
              "      <th>9</th>\n",
              "      <td>2015-01-04</td>\n",
              "      <td>1.83</td>\n",
              "      <td>2192.13</td>\n",
              "      <td>8.66</td>\n",
              "      <td>939.43</td>\n",
              "      <td>0.00</td>\n",
              "      <td>1244.04</td>\n",
              "      <td>1244.04</td>\n",
              "      <td>0.00</td>\n",
              "      <td>0.00</td>\n",
              "      <td>organic</td>\n",
              "      <td>2015</td>\n",
              "      <td>Boston</td>\n",
              "    </tr>\n",
              "    <tr>\n",
              "      <th>10</th>\n",
              "      <td>2015-01-04</td>\n",
              "      <td>1.40</td>\n",
              "      <td>116253.44</td>\n",
              "      <td>3267.97</td>\n",
              "      <td>55693.04</td>\n",
              "      <td>109.55</td>\n",
              "      <td>57182.88</td>\n",
              "      <td>57182.88</td>\n",
              "      <td>0.00</td>\n",
              "      <td>0.00</td>\n",
              "      <td>conventional</td>\n",
              "      <td>2015</td>\n",
              "      <td>Buffalo/Rochester</td>\n",
              "    </tr>\n",
              "    <tr>\n",
              "      <th>11</th>\n",
              "      <td>2015-01-04</td>\n",
              "      <td>1.73</td>\n",
              "      <td>379.82</td>\n",
              "      <td>0.00</td>\n",
              "      <td>59.82</td>\n",
              "      <td>0.00</td>\n",
              "      <td>320.00</td>\n",
              "      <td>320.00</td>\n",
              "      <td>0.00</td>\n",
              "      <td>0.00</td>\n",
              "      <td>organic</td>\n",
              "      <td>2015</td>\n",
              "      <td>Buffalo/Rochester</td>\n",
              "    </tr>\n",
              "    <tr>\n",
              "      <th>12</th>\n",
              "      <td>2015-01-04</td>\n",
              "      <td>0.93</td>\n",
              "      <td>5777334.90</td>\n",
              "      <td>2843648.26</td>\n",
              "      <td>2267755.26</td>\n",
              "      <td>137479.64</td>\n",
              "      <td>528451.74</td>\n",
              "      <td>477193.38</td>\n",
              "      <td>47882.56</td>\n",
              "      <td>3375.80</td>\n",
              "      <td>conventional</td>\n",
              "      <td>2015</td>\n",
              "      <td>California</td>\n",
              "    </tr>\n",
              "    <tr>\n",
              "      <th>13</th>\n",
              "      <td>2015-01-04</td>\n",
              "      <td>1.24</td>\n",
              "      <td>142349.77</td>\n",
              "      <td>107490.73</td>\n",
              "      <td>25711.96</td>\n",
              "      <td>2.93</td>\n",
              "      <td>9144.15</td>\n",
              "      <td>9144.15</td>\n",
              "      <td>0.00</td>\n",
              "      <td>0.00</td>\n",
              "      <td>organic</td>\n",
              "      <td>2015</td>\n",
              "      <td>California</td>\n",
              "    </tr>\n",
              "    <tr>\n",
              "      <th>14</th>\n",
              "      <td>2015-01-04</td>\n",
              "      <td>1.19</td>\n",
              "      <td>166006.29</td>\n",
              "      <td>29419.03</td>\n",
              "      <td>47220.75</td>\n",
              "      <td>38568.95</td>\n",
              "      <td>50797.56</td>\n",
              "      <td>44329.03</td>\n",
              "      <td>6468.53</td>\n",
              "      <td>0.00</td>\n",
              "      <td>conventional</td>\n",
              "      <td>2015</td>\n",
              "      <td>Charlotte</td>\n",
              "    </tr>\n",
              "    <tr>\n",
              "      <th>15</th>\n",
              "      <td>2015-01-04</td>\n",
              "      <td>2.13</td>\n",
              "      <td>2965.62</td>\n",
              "      <td>151.70</td>\n",
              "      <td>882.52</td>\n",
              "      <td>905.77</td>\n",
              "      <td>1025.63</td>\n",
              "      <td>1025.63</td>\n",
              "      <td>0.00</td>\n",
              "      <td>0.00</td>\n",
              "      <td>organic</td>\n",
              "      <td>2015</td>\n",
              "      <td>Charlotte</td>\n",
              "    </tr>\n",
              "    <tr>\n",
              "      <th>16</th>\n",
              "      <td>2015-01-04</td>\n",
              "      <td>1.11</td>\n",
              "      <td>783068.03</td>\n",
              "      <td>30270.26</td>\n",
              "      <td>550752.19</td>\n",
              "      <td>124506.10</td>\n",
              "      <td>77539.48</td>\n",
              "      <td>72888.46</td>\n",
              "      <td>4651.02</td>\n",
              "      <td>0.00</td>\n",
              "      <td>conventional</td>\n",
              "      <td>2015</td>\n",
              "      <td>Chicago</td>\n",
              "    </tr>\n",
              "    <tr>\n",
              "      <th>17</th>\n",
              "      <td>2015-01-04</td>\n",
              "      <td>1.49</td>\n",
              "      <td>17723.17</td>\n",
              "      <td>1189.35</td>\n",
              "      <td>15628.27</td>\n",
              "      <td>0.00</td>\n",
              "      <td>905.55</td>\n",
              "      <td>905.55</td>\n",
              "      <td>0.00</td>\n",
              "      <td>0.00</td>\n",
              "      <td>organic</td>\n",
              "      <td>2015</td>\n",
              "      <td>Chicago</td>\n",
              "    </tr>\n",
              "    <tr>\n",
              "      <th>18</th>\n",
              "      <td>2015-01-04</td>\n",
              "      <td>0.88</td>\n",
              "      <td>228569.58</td>\n",
              "      <td>3274.30</td>\n",
              "      <td>168764.78</td>\n",
              "      <td>1447.06</td>\n",
              "      <td>55083.44</td>\n",
              "      <td>17525.31</td>\n",
              "      <td>37445.46</td>\n",
              "      <td>112.67</td>\n",
              "      <td>conventional</td>\n",
              "      <td>2015</td>\n",
              "      <td>Cincinnati/Dayton</td>\n",
              "    </tr>\n",
              "    <tr>\n",
              "      <th>19</th>\n",
              "      <td>2015-01-04</td>\n",
              "      <td>1.34</td>\n",
              "      <td>8764.33</td>\n",
              "      <td>144.47</td>\n",
              "      <td>6921.75</td>\n",
              "      <td>0.00</td>\n",
              "      <td>1698.11</td>\n",
              "      <td>585.96</td>\n",
              "      <td>1112.15</td>\n",
              "      <td>0.00</td>\n",
              "      <td>organic</td>\n",
              "      <td>2015</td>\n",
              "      <td>Cincinnati/Dayton</td>\n",
              "    </tr>\n",
              "  </tbody>\n",
              "</table>\n",
              "</div>\n",
              "      <button class=\"colab-df-convert\" onclick=\"convertToInteractive('df-9df9fa1d-b8ac-4e78-8791-0a20571a563c')\"\n",
              "              title=\"Convert this dataframe to an interactive table.\"\n",
              "              style=\"display:none;\">\n",
              "        \n",
              "  <svg xmlns=\"http://www.w3.org/2000/svg\" height=\"24px\"viewBox=\"0 0 24 24\"\n",
              "       width=\"24px\">\n",
              "    <path d=\"M0 0h24v24H0V0z\" fill=\"none\"/>\n",
              "    <path d=\"M18.56 5.44l.94 2.06.94-2.06 2.06-.94-2.06-.94-.94-2.06-.94 2.06-2.06.94zm-11 1L8.5 8.5l.94-2.06 2.06-.94-2.06-.94L8.5 2.5l-.94 2.06-2.06.94zm10 10l.94 2.06.94-2.06 2.06-.94-2.06-.94-.94-2.06-.94 2.06-2.06.94z\"/><path d=\"M17.41 7.96l-1.37-1.37c-.4-.4-.92-.59-1.43-.59-.52 0-1.04.2-1.43.59L10.3 9.45l-7.72 7.72c-.78.78-.78 2.05 0 2.83L4 21.41c.39.39.9.59 1.41.59.51 0 1.02-.2 1.41-.59l7.78-7.78 2.81-2.81c.8-.78.8-2.07 0-2.86zM5.41 20L4 18.59l7.72-7.72 1.47 1.35L5.41 20z\"/>\n",
              "  </svg>\n",
              "      </button>\n",
              "      \n",
              "  <style>\n",
              "    .colab-df-container {\n",
              "      display:flex;\n",
              "      flex-wrap:wrap;\n",
              "      gap: 12px;\n",
              "    }\n",
              "\n",
              "    .colab-df-convert {\n",
              "      background-color: #E8F0FE;\n",
              "      border: none;\n",
              "      border-radius: 50%;\n",
              "      cursor: pointer;\n",
              "      display: none;\n",
              "      fill: #1967D2;\n",
              "      height: 32px;\n",
              "      padding: 0 0 0 0;\n",
              "      width: 32px;\n",
              "    }\n",
              "\n",
              "    .colab-df-convert:hover {\n",
              "      background-color: #E2EBFA;\n",
              "      box-shadow: 0px 1px 2px rgba(60, 64, 67, 0.3), 0px 1px 3px 1px rgba(60, 64, 67, 0.15);\n",
              "      fill: #174EA6;\n",
              "    }\n",
              "\n",
              "    [theme=dark] .colab-df-convert {\n",
              "      background-color: #3B4455;\n",
              "      fill: #D2E3FC;\n",
              "    }\n",
              "\n",
              "    [theme=dark] .colab-df-convert:hover {\n",
              "      background-color: #434B5C;\n",
              "      box-shadow: 0px 1px 3px 1px rgba(0, 0, 0, 0.15);\n",
              "      filter: drop-shadow(0px 1px 2px rgba(0, 0, 0, 0.3));\n",
              "      fill: #FFFFFF;\n",
              "    }\n",
              "  </style>\n",
              "\n",
              "      <script>\n",
              "        const buttonEl =\n",
              "          document.querySelector('#df-9df9fa1d-b8ac-4e78-8791-0a20571a563c button.colab-df-convert');\n",
              "        buttonEl.style.display =\n",
              "          google.colab.kernel.accessAllowed ? 'block' : 'none';\n",
              "\n",
              "        async function convertToInteractive(key) {\n",
              "          const element = document.querySelector('#df-9df9fa1d-b8ac-4e78-8791-0a20571a563c');\n",
              "          const dataTable =\n",
              "            await google.colab.kernel.invokeFunction('convertToInteractive',\n",
              "                                                     [key], {});\n",
              "          if (!dataTable) return;\n",
              "\n",
              "          const docLinkHtml = 'Like what you see? Visit the ' +\n",
              "            '<a target=\"_blank\" href=https://colab.research.google.com/notebooks/data_table.ipynb>data table notebook</a>'\n",
              "            + ' to learn more about interactive tables.';\n",
              "          element.innerHTML = '';\n",
              "          dataTable['output_type'] = 'display_data';\n",
              "          await google.colab.output.renderOutput(dataTable, element);\n",
              "          const docLink = document.createElement('div');\n",
              "          docLink.innerHTML = docLinkHtml;\n",
              "          element.appendChild(docLink);\n",
              "        }\n",
              "      </script>\n",
              "    </div>\n",
              "  </div>\n",
              "  "
            ]
          },
          "metadata": {},
          "execution_count": 5
        }
      ]
    },
    {
      "cell_type": "code",
      "source": [
        "df.info()"
      ],
      "metadata": {
        "colab": {
          "base_uri": "https://localhost:8080/"
        },
        "id": "us2OTTLqlmRa",
        "outputId": "1e96a7d9-489d-49cb-9b9f-7bf8f3802747"
      },
      "execution_count": 6,
      "outputs": [
        {
          "output_type": "stream",
          "name": "stdout",
          "text": [
            "<class 'pandas.core.frame.DataFrame'>\n",
            "RangeIndex: 33045 entries, 0 to 33044\n",
            "Data columns (total 13 columns):\n",
            " #   Column         Non-Null Count  Dtype  \n",
            "---  ------         --------------  -----  \n",
            " 0   date           33045 non-null  object \n",
            " 1   average_price  33045 non-null  float64\n",
            " 2   total_volume   33045 non-null  float64\n",
            " 3   4046           33045 non-null  float64\n",
            " 4   4225           33045 non-null  float64\n",
            " 5   4770           33045 non-null  float64\n",
            " 6   total_bags     33045 non-null  float64\n",
            " 7   small_bags     33045 non-null  float64\n",
            " 8   large_bags     33045 non-null  float64\n",
            " 9   xlarge_bags    33045 non-null  float64\n",
            " 10  type           33045 non-null  object \n",
            " 11  year           33045 non-null  int64  \n",
            " 12  geography      33045 non-null  object \n",
            "dtypes: float64(9), int64(1), object(3)\n",
            "memory usage: 3.3+ MB\n"
          ]
        }
      ]
    },
    {
      "cell_type": "code",
      "source": [
        "df_baru = df[[\"date\",\"average_price\"]]\n",
        "df_baru.columns = [\"tanggal\", \"harga_alpukat\"]\n",
        "df_baru.info()"
      ],
      "metadata": {
        "colab": {
          "base_uri": "https://localhost:8080/"
        },
        "id": "s-t-wvlvtbEX",
        "outputId": "06fb1b67-2f19-4f43-a8c7-a2fc370e2fc1"
      },
      "execution_count": 7,
      "outputs": [
        {
          "output_type": "stream",
          "name": "stdout",
          "text": [
            "<class 'pandas.core.frame.DataFrame'>\n",
            "RangeIndex: 33045 entries, 0 to 33044\n",
            "Data columns (total 2 columns):\n",
            " #   Column         Non-Null Count  Dtype  \n",
            "---  ------         --------------  -----  \n",
            " 0   tanggal        33045 non-null  object \n",
            " 1   harga_alpukat  33045 non-null  float64\n",
            "dtypes: float64(1), object(1)\n",
            "memory usage: 516.5+ KB\n"
          ]
        }
      ]
    },
    {
      "cell_type": "code",
      "source": [
        "df_baru['tanggal'] =  pd.to_datetime(df_baru['tanggal'], format='%Y/%m/%d')"
      ],
      "metadata": {
        "colab": {
          "base_uri": "https://localhost:8080/"
        },
        "id": "kf6SrXN-r4DF",
        "outputId": "7f30b517-83b9-4a80-b9c3-b790ac166b52"
      },
      "execution_count": 8,
      "outputs": [
        {
          "output_type": "stream",
          "name": "stderr",
          "text": [
            "/usr/local/lib/python3.7/dist-packages/ipykernel_launcher.py:1: SettingWithCopyWarning: \n",
            "A value is trying to be set on a copy of a slice from a DataFrame.\n",
            "Try using .loc[row_indexer,col_indexer] = value instead\n",
            "\n",
            "See the caveats in the documentation: https://pandas.pydata.org/pandas-docs/stable/user_guide/indexing.html#returning-a-view-versus-a-copy\n",
            "  \"\"\"Entry point for launching an IPython kernel.\n"
          ]
        }
      ]
    },
    {
      "cell_type": "code",
      "source": [
        "tahun = df_baru[('tanggal')].values\n",
        "harga = df_baru['harga_alpukat'].values"
      ],
      "metadata": {
        "id": "Ax9TPTqxt5e7"
      },
      "execution_count": 9,
      "outputs": []
    },
    {
      "cell_type": "code",
      "source": [
        "import matplotlib.pyplot as plt\n",
        "\n",
        "plt.figure(figsize=(20,5))\n",
        "plt.xlabel('Date')\n",
        "plt.ylabel('Harga Rata-Rata')\n",
        "plt.plot(tahun, harga)\n",
        "plt.show()"
      ],
      "metadata": {
        "colab": {
          "base_uri": "https://localhost:8080/",
          "height": 273
        },
        "id": "3uwRq6v5u4wo",
        "outputId": "25b68388-1578-4c8c-fb34-1d6d6b5fb7cf"
      },
      "execution_count": 10,
      "outputs": [
        {
          "output_type": "display_data",
          "data": {
            "text/plain": [
              "<Figure size 1440x360 with 1 Axes>"
            ],
            "image/png": "[encoded data removed]"
          },
          "metadata": {
            "needs_background": "light"
          }
        }
      ]
    },
    {
      "cell_type": "code",
      "source": [
        "tahun = df_baru[('tanggal')].values.astype(\"float64\")"
      ],
      "metadata": {
        "id": "akHQbsm3vBp5"
      },
      "execution_count": 11,
      "outputs": []
    },
    {
      "cell_type": "code",
      "source": [
        "tahun_reshape = tahun.reshape(-1,1)\n",
        "harga_reshape = harga.reshape(-1,1)"
      ],
      "metadata": {
        "id": "fqnO74UOvewy"
      },
      "execution_count": 12,
      "outputs": []
    },
    {
      "cell_type": "code",
      "source": [
        "tahun_reshape"
      ],
      "metadata": {
        "colab": {
          "base_uri": "https://localhost:8080/"
        },
        "id": "U1bMhm0lpwUs",
        "outputId": "8a97da7f-b63d-456a-b8bd-156ee184e621"
      },
      "execution_count": 13,
      "outputs": [
        {
          "output_type": "execute_result",
          "data": {
            "text/plain": [
              "array([[1.4203296e+18],\n",
              "       [1.4203296e+18],\n",
              "       [1.4203296e+18],\n",
              "       ...,\n",
              "       [1.6066080e+18],\n",
              "       [1.6066080e+18],\n",
              "       [1.6066080e+18]])"
            ]
          },
          "metadata": {},
          "execution_count": 13
        }
      ]
    },
    {
      "cell_type": "code",
      "source": [
        "harga_reshape"
      ],
      "metadata": {
        "colab": {
          "base_uri": "https://localhost:8080/"
        },
        "id": "ZjEsZ5A8pybS",
        "outputId": "434d1bab-7f80-46c6-beee-9be49f044687"
      },
      "execution_count": 14,
      "outputs": [
        {
          "output_type": "execute_result",
          "data": {
            "text/plain": [
              "array([[1.22],\n",
              "       [1.79],\n",
              "       [1.  ],\n",
              "       ...,\n",
              "       [1.48],\n",
              "       [0.67],\n",
              "       [1.35]])"
            ]
          },
          "metadata": {},
          "execution_count": 14
        }
      ]
    },
    {
      "cell_type": "code",
      "source": [
        "from sklearn.preprocessing import StandardScaler\n",
        "\n",
        "standard_scaler = StandardScaler()\n",
        "tahun = standard_scaler.fit_transform(tahun_reshape)\n",
        "harga = standard_scaler.fit_transform(harga_reshape)"
      ],
      "metadata": {
        "id": "H97xys78vvRy"
      },
      "execution_count": 15,
      "outputs": []
    },
    {
      "cell_type": "code",
      "source": [
        "tahun = tahun.flatten()\n",
        "tahun"
      ],
      "metadata": {
        "colab": {
          "base_uri": "https://localhost:8080/"
        },
        "id": "Jtt9t1ujy_II",
        "outputId": "80ec7ed7-890d-448c-9921-799bacd3cfce"
      },
      "execution_count": 16,
      "outputs": [
        {
          "output_type": "execute_result",
          "data": {
            "text/plain": [
              "array([-1.71438143, -1.71438143, -1.71438143, ...,  1.72944591,\n",
              "        1.72944591,  1.72944591])"
            ]
          },
          "metadata": {},
          "execution_count": 16
        }
      ]
    },
    {
      "cell_type": "code",
      "source": [
        "harga = harga.flatten()\n",
        "harga"
      ],
      "metadata": {
        "colab": {
          "base_uri": "https://localhost:8080/"
        },
        "id": "9-JjlABzv-Ow",
        "outputId": "59c74a20-7668-466d-a9ff-c94a74c84b13"
      },
      "execution_count": 17,
      "outputs": [
        {
          "output_type": "execute_result",
          "data": {
            "text/plain": [
              "array([-0.42204487,  1.08204755, -1.00257177, ...,  0.26403238,\n",
              "       -1.87336212, -0.07900625])"
            ]
          },
          "metadata": {},
          "execution_count": 17
        }
      ]
    },
    {
      "cell_type": "code",
      "source": [
        "from sklearn.model_selection import train_test_split\n",
        "\n",
        "x_train, x_test, y_train, y_test = train_test_split(tahun, harga, test_size = 0.2, shuffle = False)"
      ],
      "metadata": {
        "id": "92RACW1hwEUS"
      },
      "execution_count": 18,
      "outputs": []
    },
    {
      "cell_type": "code",
      "source": [
        "print(len(x_train))\n",
        "print(len(x_test))"
      ],
      "metadata": {
        "colab": {
          "base_uri": "https://localhost:8080/"
        },
        "id": "wX1gN922wOqW",
        "outputId": "49670108-f463-48e5-99fc-7bd67ba564ef"
      },
      "execution_count": 19,
      "outputs": [
        {
          "output_type": "stream",
          "name": "stdout",
          "text": [
            "26436\n",
            "6609\n"
          ]
        }
      ]
    },
    {
      "cell_type": "code",
      "source": [
        "def windowed_dataset(series, window_size, batch_size, shuffle_buffer):\n",
        "    series = tf.expand_dims(series, axis=-1)                            \n",
        "    ds = tf.data.Dataset.from_tensor_slices(series)                                      \n",
        "    ds = ds.window(window_size + 1, shift=1, drop_remainder=True)         \n",
        "    ds = ds.flat_map(lambda w: w.batch(window_size + 1))            \n",
        "    ds = ds.shuffle(shuffle_buffer)                                     \n",
        "    ds = ds.map(lambda w: (w[:-1], w[-1:]))                 \n",
        "    return ds.batch(batch_size).prefetch(1)    "
      ],
      "metadata": {
        "id": "UKxcFPuLxmU1"
      },
      "execution_count": 20,
      "outputs": []
    },
    {
      "cell_type": "code",
      "source": [
        "import tensorflow as tf\n",
        "\n",
        "train_set = windowed_dataset(y_train, window_size=30, batch_size=100, shuffle_buffer=1000)\n",
        "val_test = windowed_dataset(y_test, window_size=30, batch_size=100, shuffle_buffer=1000)"
      ],
      "metadata": {
        "id": "WOnGTvg8xwSB"
      },
      "execution_count": 102,
      "outputs": []
    },
    {
      "cell_type": "code",
      "source": [
        "from keras.layers import Dense\n",
        "from keras.layers import LSTM, Bidirectional\n",
        "\n",
        "model = tf.keras.models.Sequential([\n",
        "    tf.keras.layers.LSTM(64, return_sequences=True),\n",
        "    tf.keras.layers.Dropout(0.5),\n",
        "    tf.keras.layers.LSTM(64, return_sequences=True),\n",
        "    tf.keras.layers.Dropout(0.5),\n",
        "    tf.keras.layers.Bidirectional(tf.keras.layers.LSTM(64)),\n",
        "    tf.keras.layers.Dense(64, activation=\"relu\"),\n",
        "    tf.keras.layers.Dropout(0.5),\n",
        "    tf.keras.layers.Dense(32, activation=\"relu\"),\n",
        "    tf.keras.layers.Dense(10, activation=\"relu\"),\n",
        "    tf.keras.layers.Dense(1),\n",
        "])"
      ],
      "metadata": {
        "id": "GC0Dkpy-yEIP"
      },
      "execution_count": 103,
      "outputs": []
    },
    {
      "cell_type": "code",
      "source": [
        "optimizer = tf.keras.optimizers.SGD(lr = 1.0000e-04, momentum = 0.9)\n",
        "\n",
        "model.compile(loss = tf.keras.losses.Huber(),\n",
        "              optimizer = optimizer,\n",
        "              metrics = [\"mae\"])"
      ],
      "metadata": {
        "id": "G7Wex_9OyVXr"
      },
      "execution_count": 104,
      "outputs": []
    },
    {
      "cell_type": "code",
      "source": [
        "threshold = (harga.max() - harga.min()) * 10/100\n",
        "print(threshold)"
      ],
      "metadata": {
        "colab": {
          "base_uri": "https://localhost:8080/"
        },
        "id": "dls5UQIEFDAa",
        "outputId": "6908bd35-8d82-4ce7-abc5-a8b2af598942"
      },
      "execution_count": 105,
      "outputs": [
        {
          "output_type": "stream",
          "name": "stdout",
          "text": [
            "0.741491177667998\n"
          ]
        }
      ]
    },
    {
      "cell_type": "code",
      "source": [
        "riwayat_training_model = model.fit(train_set,\n",
        "                                   epochs = 200,\n",
        "                                   validation_data = val_test,\n",
        "                                   verbose=2)"
      ],
      "metadata": {
        "colab": {
          "base_uri": "https://localhost:8080/"
        },
        "id": "4s6l86zTyf-D",
        "outputId": "8f7bc9fd-e2a1-4ab6-d133-0fc77bff64f0"
      },
      "execution_count": 106,
      "outputs": [
        {
          "output_type": "stream",
          "name": "stdout",
          "text": [
            "Epoch 1/200\n",
            "265/265 - 14s - loss: 0.4312 - mae: 0.8097 - val_loss: 0.3765 - val_mae: 0.7576 - 14s/epoch - 52ms/step\n",
            "Epoch 2/200\n",
            "265/265 - 5s - loss: 0.4293 - mae: 0.8076 - val_loss: 0.3752 - val_mae: 0.7562 - 5s/epoch - 20ms/step\n",
            "Epoch 3/200\n",
            "265/265 - 5s - loss: 0.4277 - mae: 0.8057 - val_loss: 0.3735 - val_mae: 0.7543 - 5s/epoch - 20ms/step\n",
            "Epoch 4/200\n",
            "265/265 - 5s - loss: 0.4261 - mae: 0.8040 - val_loss: 0.3718 - val_mae: 0.7523 - 5s/epoch - 20ms/step\n",
            "Epoch 5/200\n",
            "265/265 - 5s - loss: 0.4246 - mae: 0.8022 - val_loss: 0.3698 - val_mae: 0.7500 - 5s/epoch - 20ms/step\n",
            "Epoch 6/200\n",
            "265/265 - 8s - loss: 0.4231 - mae: 0.8006 - val_loss: 0.3681 - val_mae: 0.7481 - 8s/epoch - 29ms/step\n",
            "Epoch 7/200\n",
            "265/265 - 5s - loss: 0.4218 - mae: 0.7989 - val_loss: 0.3661 - val_mae: 0.7458 - 5s/epoch - 21ms/step\n",
            "Epoch 8/200\n",
            "265/265 - 5s - loss: 0.4206 - mae: 0.7977 - val_loss: 0.3645 - val_mae: 0.7439 - 5s/epoch - 20ms/step\n",
            "Epoch 9/200\n",
            "265/265 - 5s - loss: 0.4192 - mae: 0.7960 - val_loss: 0.3628 - val_mae: 0.7419 - 5s/epoch - 20ms/step\n",
            "Epoch 10/200\n",
            "265/265 - 5s - loss: 0.4177 - mae: 0.7944 - val_loss: 0.3613 - val_mae: 0.7402 - 5s/epoch - 20ms/step\n",
            "Epoch 11/200\n",
            "265/265 - 5s - loss: 0.4166 - mae: 0.7929 - val_loss: 0.3595 - val_mae: 0.7381 - 5s/epoch - 20ms/step\n",
            "Epoch 12/200\n",
            "265/265 - 5s - loss: 0.4152 - mae: 0.7912 - val_loss: 0.3583 - val_mae: 0.7367 - 5s/epoch - 20ms/step\n",
            "Epoch 13/200\n",
            "265/265 - 5s - loss: 0.4138 - mae: 0.7898 - val_loss: 0.3565 - val_mae: 0.7347 - 5s/epoch - 21ms/step\n",
            "Epoch 14/200\n",
            "265/265 - 5s - loss: 0.4120 - mae: 0.7878 - val_loss: 0.3549 - val_mae: 0.7328 - 5s/epoch - 21ms/step\n",
            "Epoch 15/200\n",
            "265/265 - 5s - loss: 0.4107 - mae: 0.7863 - val_loss: 0.3534 - val_mae: 0.7310 - 5s/epoch - 21ms/step\n",
            "Epoch 16/200\n",
            "265/265 - 5s - loss: 0.4091 - mae: 0.7844 - val_loss: 0.3517 - val_mae: 0.7290 - 5s/epoch - 21ms/step\n",
            "Epoch 17/200\n",
            "265/265 - 5s - loss: 0.4078 - mae: 0.7832 - val_loss: 0.3504 - val_mae: 0.7274 - 5s/epoch - 21ms/step\n",
            "Epoch 18/200\n",
            "265/265 - 6s - loss: 0.4063 - mae: 0.7814 - val_loss: 0.3486 - val_mae: 0.7252 - 6s/epoch - 21ms/step\n",
            "Epoch 19/200\n",
            "265/265 - 5s - loss: 0.4044 - mae: 0.7793 - val_loss: 0.3470 - val_mae: 0.7232 - 5s/epoch - 20ms/step\n",
            "Epoch 20/200\n",
            "265/265 - 5s - loss: 0.4034 - mae: 0.7779 - val_loss: 0.3458 - val_mae: 0.7217 - 5s/epoch - 21ms/step\n",
            "Epoch 21/200\n",
            "265/265 - 6s - loss: 0.4019 - mae: 0.7765 - val_loss: 0.3446 - val_mae: 0.7201 - 6s/epoch - 21ms/step\n",
            "Epoch 22/200\n",
            "265/265 - 6s - loss: 0.4009 - mae: 0.7753 - val_loss: 0.3435 - val_mae: 0.7187 - 6s/epoch - 21ms/step\n",
            "Epoch 23/200\n",
            "265/265 - 6s - loss: 0.4006 - mae: 0.7747 - val_loss: 0.3424 - val_mae: 0.7171 - 6s/epoch - 21ms/step\n",
            "Epoch 24/200\n",
            "265/265 - 5s - loss: 0.3992 - mae: 0.7733 - val_loss: 0.3414 - val_mae: 0.7158 - 5s/epoch - 21ms/step\n",
            "Epoch 25/200\n",
            "265/265 - 5s - loss: 0.3986 - mae: 0.7725 - val_loss: 0.3406 - val_mae: 0.7147 - 5s/epoch - 20ms/step\n",
            "Epoch 26/200\n",
            "265/265 - 5s - loss: 0.3970 - mae: 0.7705 - val_loss: 0.3399 - val_mae: 0.7137 - 5s/epoch - 21ms/step\n",
            "Epoch 27/200\n",
            "265/265 - 5s - loss: 0.3968 - mae: 0.7705 - val_loss: 0.3388 - val_mae: 0.7122 - 5s/epoch - 20ms/step\n",
            "Epoch 28/200\n",
            "265/265 - 5s - loss: 0.3964 - mae: 0.7700 - val_loss: 0.3381 - val_mae: 0.7111 - 5s/epoch - 21ms/step\n",
            "Epoch 29/200\n",
            "265/265 - 5s - loss: 0.3961 - mae: 0.7695 - val_loss: 0.3373 - val_mae: 0.7099 - 5s/epoch - 21ms/step\n",
            "Epoch 30/200\n",
            "265/265 - 5s - loss: 0.3950 - mae: 0.7686 - val_loss: 0.3368 - val_mae: 0.7092 - 5s/epoch - 21ms/step\n",
            "Epoch 31/200\n",
            "265/265 - 5s - loss: 0.3948 - mae: 0.7680 - val_loss: 0.3362 - val_mae: 0.7083 - 5s/epoch - 20ms/step\n",
            "Epoch 32/200\n",
            "265/265 - 5s - loss: 0.3939 - mae: 0.7676 - val_loss: 0.3356 - val_mae: 0.7073 - 5s/epoch - 20ms/step\n",
            "Epoch 33/200\n",
            "265/265 - 5s - loss: 0.3932 - mae: 0.7664 - val_loss: 0.3351 - val_mae: 0.7066 - 5s/epoch - 20ms/step\n",
            "Epoch 34/200\n",
            "265/265 - 5s - loss: 0.3945 - mae: 0.7684 - val_loss: 0.3345 - val_mae: 0.7058 - 5s/epoch - 20ms/step\n",
            "Epoch 35/200\n",
            "265/265 - 5s - loss: 0.3928 - mae: 0.7656 - val_loss: 0.3339 - val_mae: 0.7048 - 5s/epoch - 20ms/step\n",
            "Epoch 36/200\n",
            "265/265 - 5s - loss: 0.3920 - mae: 0.7644 - val_loss: 0.3334 - val_mae: 0.7041 - 5s/epoch - 20ms/step\n",
            "Epoch 37/200\n",
            "265/265 - 5s - loss: 0.3911 - mae: 0.7635 - val_loss: 0.3329 - val_mae: 0.7035 - 5s/epoch - 21ms/step\n",
            "Epoch 38/200\n",
            "265/265 - 6s - loss: 0.3912 - mae: 0.7641 - val_loss: 0.3325 - val_mae: 0.7027 - 6s/epoch - 21ms/step\n",
            "Epoch 39/200\n",
            "265/265 - 6s - loss: 0.3909 - mae: 0.7637 - val_loss: 0.3320 - val_mae: 0.7021 - 6s/epoch - 21ms/step\n",
            "Epoch 40/200\n",
            "265/265 - 5s - loss: 0.3907 - mae: 0.7634 - val_loss: 0.3315 - val_mae: 0.7014 - 5s/epoch - 20ms/step\n",
            "Epoch 41/200\n",
            "265/265 - 5s - loss: 0.3906 - mae: 0.7632 - val_loss: 0.3311 - val_mae: 0.7008 - 5s/epoch - 20ms/step\n",
            "Epoch 42/200\n",
            "265/265 - 5s - loss: 0.3904 - mae: 0.7630 - val_loss: 0.3307 - val_mae: 0.7002 - 5s/epoch - 20ms/step\n",
            "Epoch 43/200\n",
            "265/265 - 5s - loss: 0.3890 - mae: 0.7613 - val_loss: 0.3302 - val_mae: 0.6995 - 5s/epoch - 21ms/step\n",
            "Epoch 44/200\n",
            "265/265 - 5s - loss: 0.3894 - mae: 0.7619 - val_loss: 0.3298 - val_mae: 0.6989 - 5s/epoch - 21ms/step\n",
            "Epoch 45/200\n",
            "265/265 - 5s - loss: 0.3894 - mae: 0.7617 - val_loss: 0.3294 - val_mae: 0.6983 - 5s/epoch - 20ms/step\n",
            "Epoch 46/200\n",
            "265/265 - 5s - loss: 0.3883 - mae: 0.7604 - val_loss: 0.3291 - val_mae: 0.6978 - 5s/epoch - 21ms/step\n",
            "Epoch 47/200\n",
            "265/265 - 5s - loss: 0.3875 - mae: 0.7590 - val_loss: 0.3287 - val_mae: 0.6972 - 5s/epoch - 20ms/step\n",
            "Epoch 48/200\n",
            "265/265 - 6s - loss: 0.3884 - mae: 0.7606 - val_loss: 0.3282 - val_mae: 0.6965 - 6s/epoch - 24ms/step\n",
            "Epoch 49/200\n",
            "265/265 - 5s - loss: 0.3874 - mae: 0.7593 - val_loss: 0.3278 - val_mae: 0.6960 - 5s/epoch - 21ms/step\n",
            "Epoch 50/200\n",
            "265/265 - 5s - loss: 0.3877 - mae: 0.7599 - val_loss: 0.3273 - val_mae: 0.6954 - 5s/epoch - 20ms/step\n",
            "Epoch 51/200\n",
            "265/265 - 5s - loss: 0.3868 - mae: 0.7580 - val_loss: 0.3269 - val_mae: 0.6947 - 5s/epoch - 21ms/step\n",
            "Epoch 52/200\n",
            "265/265 - 5s - loss: 0.3868 - mae: 0.7590 - val_loss: 0.3265 - val_mae: 0.6941 - 5s/epoch - 20ms/step\n",
            "Epoch 53/200\n",
            "265/265 - 5s - loss: 0.3864 - mae: 0.7580 - val_loss: 0.3261 - val_mae: 0.6935 - 5s/epoch - 20ms/step\n",
            "Epoch 54/200\n",
            "265/265 - 5s - loss: 0.3865 - mae: 0.7583 - val_loss: 0.3257 - val_mae: 0.6929 - 5s/epoch - 20ms/step\n",
            "Epoch 55/200\n",
            "265/265 - 5s - loss: 0.3853 - mae: 0.7567 - val_loss: 0.3252 - val_mae: 0.6923 - 5s/epoch - 20ms/step\n",
            "Epoch 56/200\n",
            "265/265 - 5s - loss: 0.3854 - mae: 0.7569 - val_loss: 0.3247 - val_mae: 0.6914 - 5s/epoch - 20ms/step\n",
            "Epoch 57/200\n",
            "265/265 - 6s - loss: 0.3849 - mae: 0.7559 - val_loss: 0.3242 - val_mae: 0.6909 - 6s/epoch - 21ms/step\n",
            "Epoch 58/200\n",
            "265/265 - 6s - loss: 0.3850 - mae: 0.7559 - val_loss: 0.3238 - val_mae: 0.6903 - 6s/epoch - 21ms/step\n",
            "Epoch 59/200\n",
            "265/265 - 6s - loss: 0.3844 - mae: 0.7558 - val_loss: 0.3233 - val_mae: 0.6895 - 6s/epoch - 21ms/step\n",
            "Epoch 60/200\n",
            "265/265 - 5s - loss: 0.3837 - mae: 0.7544 - val_loss: 0.3228 - val_mae: 0.6888 - 5s/epoch - 21ms/step\n",
            "Epoch 61/200\n",
            "265/265 - 5s - loss: 0.3838 - mae: 0.7545 - val_loss: 0.3222 - val_mae: 0.6881 - 5s/epoch - 21ms/step\n",
            "Epoch 62/200\n",
            "265/265 - 6s - loss: 0.3835 - mae: 0.7548 - val_loss: 0.3217 - val_mae: 0.6874 - 6s/epoch - 21ms/step\n",
            "Epoch 63/200\n",
            "265/265 - 5s - loss: 0.3832 - mae: 0.7540 - val_loss: 0.3213 - val_mae: 0.6867 - 5s/epoch - 21ms/step\n",
            "Epoch 64/200\n",
            "265/265 - 5s - loss: 0.3830 - mae: 0.7537 - val_loss: 0.3210 - val_mae: 0.6862 - 5s/epoch - 20ms/step\n",
            "Epoch 65/200\n",
            "265/265 - 5s - loss: 0.3821 - mae: 0.7530 - val_loss: 0.3204 - val_mae: 0.6853 - 5s/epoch - 21ms/step\n",
            "Epoch 66/200\n",
            "265/265 - 5s - loss: 0.3831 - mae: 0.7538 - val_loss: 0.3199 - val_mae: 0.6846 - 5s/epoch - 21ms/step\n",
            "Epoch 67/200\n",
            "265/265 - 5s - loss: 0.3817 - mae: 0.7523 - val_loss: 0.3194 - val_mae: 0.6839 - 5s/epoch - 21ms/step\n",
            "Epoch 68/200\n",
            "265/265 - 6s - loss: 0.3815 - mae: 0.7514 - val_loss: 0.3190 - val_mae: 0.6834 - 6s/epoch - 24ms/step\n",
            "Epoch 69/200\n",
            "265/265 - 5s - loss: 0.3806 - mae: 0.7504 - val_loss: 0.3187 - val_mae: 0.6829 - 5s/epoch - 20ms/step\n",
            "Epoch 70/200\n",
            "265/265 - 6s - loss: 0.3815 - mae: 0.7517 - val_loss: 0.3183 - val_mae: 0.6823 - 6s/epoch - 21ms/step\n",
            "Epoch 71/200\n",
            "265/265 - 5s - loss: 0.3806 - mae: 0.7504 - val_loss: 0.3179 - val_mae: 0.6817 - 5s/epoch - 20ms/step\n",
            "Epoch 72/200\n",
            "265/265 - 5s - loss: 0.3805 - mae: 0.7508 - val_loss: 0.3177 - val_mae: 0.6814 - 5s/epoch - 20ms/step\n",
            "Epoch 73/200\n",
            "265/265 - 5s - loss: 0.3804 - mae: 0.7503 - val_loss: 0.3172 - val_mae: 0.6807 - 5s/epoch - 20ms/step\n",
            "Epoch 74/200\n",
            "265/265 - 5s - loss: 0.3790 - mae: 0.7484 - val_loss: 0.3169 - val_mae: 0.6803 - 5s/epoch - 20ms/step\n",
            "Epoch 75/200\n",
            "265/265 - 5s - loss: 0.3787 - mae: 0.7484 - val_loss: 0.3165 - val_mae: 0.6797 - 5s/epoch - 20ms/step\n",
            "Epoch 76/200\n",
            "265/265 - 5s - loss: 0.3794 - mae: 0.7489 - val_loss: 0.3161 - val_mae: 0.6788 - 5s/epoch - 20ms/step\n",
            "Epoch 77/200\n",
            "265/265 - 5s - loss: 0.3789 - mae: 0.7483 - val_loss: 0.3158 - val_mae: 0.6785 - 5s/epoch - 21ms/step\n",
            "Epoch 78/200\n",
            "265/265 - 6s - loss: 0.3786 - mae: 0.7479 - val_loss: 0.3155 - val_mae: 0.6779 - 6s/epoch - 21ms/step\n",
            "Epoch 79/200\n",
            "265/265 - 5s - loss: 0.3785 - mae: 0.7476 - val_loss: 0.3152 - val_mae: 0.6775 - 5s/epoch - 20ms/step\n",
            "Epoch 80/200\n",
            "265/265 - 5s - loss: 0.3781 - mae: 0.7471 - val_loss: 0.3149 - val_mae: 0.6770 - 5s/epoch - 20ms/step\n",
            "Epoch 81/200\n",
            "265/265 - 5s - loss: 0.3777 - mae: 0.7466 - val_loss: 0.3146 - val_mae: 0.6768 - 5s/epoch - 21ms/step\n",
            "Epoch 82/200\n",
            "265/265 - 5s - loss: 0.3777 - mae: 0.7469 - val_loss: 0.3143 - val_mae: 0.6763 - 5s/epoch - 20ms/step\n",
            "Epoch 83/200\n",
            "265/265 - 5s - loss: 0.3773 - mae: 0.7458 - val_loss: 0.3140 - val_mae: 0.6759 - 5s/epoch - 20ms/step\n",
            "Epoch 84/200\n",
            "265/265 - 6s - loss: 0.3778 - mae: 0.7464 - val_loss: 0.3138 - val_mae: 0.6755 - 6s/epoch - 22ms/step\n",
            "Epoch 85/200\n",
            "265/265 - 5s - loss: 0.3762 - mae: 0.7449 - val_loss: 0.3134 - val_mae: 0.6749 - 5s/epoch - 20ms/step\n",
            "Epoch 86/200\n",
            "265/265 - 5s - loss: 0.3760 - mae: 0.7441 - val_loss: 0.3131 - val_mae: 0.6743 - 5s/epoch - 20ms/step\n",
            "Epoch 87/200\n",
            "265/265 - 5s - loss: 0.3764 - mae: 0.7450 - val_loss: 0.3128 - val_mae: 0.6738 - 5s/epoch - 21ms/step\n",
            "Epoch 88/200\n",
            "265/265 - 6s - loss: 0.3765 - mae: 0.7452 - val_loss: 0.3126 - val_mae: 0.6735 - 6s/epoch - 24ms/step\n",
            "Epoch 89/200\n",
            "265/265 - 5s - loss: 0.3762 - mae: 0.7445 - val_loss: 0.3123 - val_mae: 0.6732 - 5s/epoch - 21ms/step\n",
            "Epoch 90/200\n",
            "265/265 - 5s - loss: 0.3753 - mae: 0.7439 - val_loss: 0.3121 - val_mae: 0.6728 - 5s/epoch - 20ms/step\n",
            "Epoch 91/200\n",
            "265/265 - 5s - loss: 0.3754 - mae: 0.7432 - val_loss: 0.3118 - val_mae: 0.6725 - 5s/epoch - 20ms/step\n",
            "Epoch 92/200\n",
            "265/265 - 6s - loss: 0.3768 - mae: 0.7449 - val_loss: 0.3117 - val_mae: 0.6722 - 6s/epoch - 21ms/step\n",
            "Epoch 93/200\n",
            "265/265 - 5s - loss: 0.3747 - mae: 0.7427 - val_loss: 0.3115 - val_mae: 0.6722 - 5s/epoch - 21ms/step\n",
            "Epoch 94/200\n",
            "265/265 - 5s - loss: 0.3753 - mae: 0.7432 - val_loss: 0.3113 - val_mae: 0.6718 - 5s/epoch - 20ms/step\n",
            "Epoch 95/200\n",
            "265/265 - 5s - loss: 0.3739 - mae: 0.7414 - val_loss: 0.3110 - val_mae: 0.6714 - 5s/epoch - 20ms/step\n",
            "Epoch 96/200\n",
            "265/265 - 5s - loss: 0.3741 - mae: 0.7412 - val_loss: 0.3108 - val_mae: 0.6708 - 5s/epoch - 21ms/step\n",
            "Epoch 97/200\n",
            "265/265 - 5s - loss: 0.3738 - mae: 0.7418 - val_loss: 0.3105 - val_mae: 0.6705 - 5s/epoch - 21ms/step\n",
            "Epoch 98/200\n",
            "265/265 - 5s - loss: 0.3752 - mae: 0.7427 - val_loss: 0.3104 - val_mae: 0.6701 - 5s/epoch - 20ms/step\n",
            "Epoch 99/200\n",
            "265/265 - 5s - loss: 0.3744 - mae: 0.7419 - val_loss: 0.3102 - val_mae: 0.6700 - 5s/epoch - 20ms/step\n",
            "Epoch 100/200\n",
            "265/265 - 6s - loss: 0.3737 - mae: 0.7410 - val_loss: 0.3099 - val_mae: 0.6695 - 6s/epoch - 21ms/step\n",
            "Epoch 101/200\n",
            "265/265 - 5s - loss: 0.3736 - mae: 0.7404 - val_loss: 0.3097 - val_mae: 0.6694 - 5s/epoch - 20ms/step\n",
            "Epoch 102/200\n",
            "265/265 - 5s - loss: 0.3730 - mae: 0.7401 - val_loss: 0.3096 - val_mae: 0.6691 - 5s/epoch - 20ms/step\n",
            "Epoch 103/200\n",
            "265/265 - 5s - loss: 0.3740 - mae: 0.7411 - val_loss: 0.3095 - val_mae: 0.6688 - 5s/epoch - 20ms/step\n",
            "Epoch 104/200\n",
            "265/265 - 5s - loss: 0.3737 - mae: 0.7413 - val_loss: 0.3095 - val_mae: 0.6688 - 5s/epoch - 21ms/step\n",
            "Epoch 105/200\n",
            "265/265 - 5s - loss: 0.3729 - mae: 0.7400 - val_loss: 0.3093 - val_mae: 0.6685 - 5s/epoch - 20ms/step\n",
            "Epoch 106/200\n",
            "265/265 - 5s - loss: 0.3748 - mae: 0.7426 - val_loss: 0.3091 - val_mae: 0.6683 - 5s/epoch - 20ms/step\n",
            "Epoch 107/200\n",
            "265/265 - 5s - loss: 0.3730 - mae: 0.7398 - val_loss: 0.3090 - val_mae: 0.6683 - 5s/epoch - 20ms/step\n",
            "Epoch 108/200\n",
            "265/265 - 6s - loss: 0.3732 - mae: 0.7402 - val_loss: 0.3088 - val_mae: 0.6678 - 6s/epoch - 24ms/step\n",
            "Epoch 109/200\n",
            "265/265 - 5s - loss: 0.3741 - mae: 0.7415 - val_loss: 0.3087 - val_mae: 0.6678 - 5s/epoch - 20ms/step\n",
            "Epoch 110/200\n",
            "265/265 - 6s - loss: 0.3720 - mae: 0.7386 - val_loss: 0.3086 - val_mae: 0.6679 - 6s/epoch - 22ms/step\n",
            "Epoch 111/200\n",
            "265/265 - 5s - loss: 0.3727 - mae: 0.7395 - val_loss: 0.3084 - val_mae: 0.6675 - 5s/epoch - 20ms/step\n",
            "Epoch 112/200\n",
            "265/265 - 5s - loss: 0.3712 - mae: 0.7378 - val_loss: 0.3083 - val_mae: 0.6672 - 5s/epoch - 21ms/step\n",
            "Epoch 113/200\n",
            "265/265 - 5s - loss: 0.3717 - mae: 0.7384 - val_loss: 0.3081 - val_mae: 0.6667 - 5s/epoch - 20ms/step\n",
            "Epoch 114/200\n",
            "265/265 - 5s - loss: 0.3723 - mae: 0.7390 - val_loss: 0.3079 - val_mae: 0.6665 - 5s/epoch - 20ms/step\n",
            "Epoch 115/200\n",
            "265/265 - 5s - loss: 0.3721 - mae: 0.7386 - val_loss: 0.3078 - val_mae: 0.6665 - 5s/epoch - 20ms/step\n",
            "Epoch 116/200\n",
            "265/265 - 5s - loss: 0.3718 - mae: 0.7382 - val_loss: 0.3076 - val_mae: 0.6664 - 5s/epoch - 20ms/step\n",
            "Epoch 117/200\n",
            "265/265 - 5s - loss: 0.3711 - mae: 0.7371 - val_loss: 0.3074 - val_mae: 0.6661 - 5s/epoch - 21ms/step\n",
            "Epoch 118/200\n",
            "265/265 - 5s - loss: 0.3716 - mae: 0.7384 - val_loss: 0.3074 - val_mae: 0.6661 - 5s/epoch - 20ms/step\n",
            "Epoch 119/200\n",
            "265/265 - 5s - loss: 0.3717 - mae: 0.7382 - val_loss: 0.3072 - val_mae: 0.6657 - 5s/epoch - 20ms/step\n",
            "Epoch 120/200\n",
            "265/265 - 5s - loss: 0.3710 - mae: 0.7372 - val_loss: 0.3071 - val_mae: 0.6655 - 5s/epoch - 20ms/step\n",
            "Epoch 121/200\n",
            "265/265 - 5s - loss: 0.3715 - mae: 0.7377 - val_loss: 0.3070 - val_mae: 0.6653 - 5s/epoch - 21ms/step\n",
            "Epoch 122/200\n",
            "265/265 - 5s - loss: 0.3717 - mae: 0.7384 - val_loss: 0.3069 - val_mae: 0.6650 - 5s/epoch - 20ms/step\n",
            "Epoch 123/200\n",
            "265/265 - 5s - loss: 0.3711 - mae: 0.7371 - val_loss: 0.3067 - val_mae: 0.6653 - 5s/epoch - 20ms/step\n",
            "Epoch 124/200\n",
            "265/265 - 5s - loss: 0.3714 - mae: 0.7378 - val_loss: 0.3065 - val_mae: 0.6649 - 5s/epoch - 21ms/step\n",
            "Epoch 125/200\n",
            "265/265 - 5s - loss: 0.3716 - mae: 0.7383 - val_loss: 0.3064 - val_mae: 0.6644 - 5s/epoch - 20ms/step\n",
            "Epoch 126/200\n",
            "265/265 - 5s - loss: 0.3707 - mae: 0.7367 - val_loss: 0.3062 - val_mae: 0.6641 - 5s/epoch - 20ms/step\n",
            "Epoch 127/200\n",
            "265/265 - 5s - loss: 0.3708 - mae: 0.7361 - val_loss: 0.3061 - val_mae: 0.6642 - 5s/epoch - 20ms/step\n",
            "Epoch 128/200\n",
            "265/265 - 5s - loss: 0.3711 - mae: 0.7364 - val_loss: 0.3060 - val_mae: 0.6639 - 5s/epoch - 20ms/step\n",
            "Epoch 129/200\n",
            "265/265 - 6s - loss: 0.3706 - mae: 0.7368 - val_loss: 0.3059 - val_mae: 0.6639 - 6s/epoch - 24ms/step\n",
            "Epoch 130/200\n",
            "265/265 - 5s - loss: 0.3708 - mae: 0.7364 - val_loss: 0.3058 - val_mae: 0.6637 - 5s/epoch - 20ms/step\n",
            "Epoch 131/200\n",
            "265/265 - 5s - loss: 0.3710 - mae: 0.7369 - val_loss: 0.3057 - val_mae: 0.6636 - 5s/epoch - 20ms/step\n",
            "Epoch 132/200\n",
            "265/265 - 5s - loss: 0.3716 - mae: 0.7376 - val_loss: 0.3057 - val_mae: 0.6635 - 5s/epoch - 21ms/step\n",
            "Epoch 133/200\n",
            "265/265 - 5s - loss: 0.3703 - mae: 0.7363 - val_loss: 0.3056 - val_mae: 0.6635 - 5s/epoch - 21ms/step\n",
            "Epoch 134/200\n",
            "265/265 - 5s - loss: 0.3699 - mae: 0.7356 - val_loss: 0.3053 - val_mae: 0.6628 - 5s/epoch - 21ms/step\n",
            "Epoch 135/200\n",
            "265/265 - 5s - loss: 0.3699 - mae: 0.7356 - val_loss: 0.3051 - val_mae: 0.6628 - 5s/epoch - 20ms/step\n",
            "Epoch 136/200\n",
            "265/265 - 5s - loss: 0.3698 - mae: 0.7351 - val_loss: 0.3051 - val_mae: 0.6627 - 5s/epoch - 20ms/step\n",
            "Epoch 137/200\n",
            "265/265 - 5s - loss: 0.3705 - mae: 0.7362 - val_loss: 0.3051 - val_mae: 0.6630 - 5s/epoch - 20ms/step\n",
            "Epoch 138/200\n",
            "265/265 - 5s - loss: 0.3705 - mae: 0.7360 - val_loss: 0.3050 - val_mae: 0.6626 - 5s/epoch - 21ms/step\n",
            "Epoch 139/200\n",
            "265/265 - 5s - loss: 0.3694 - mae: 0.7347 - val_loss: 0.3049 - val_mae: 0.6623 - 5s/epoch - 20ms/step\n",
            "Epoch 140/200\n",
            "265/265 - 5s - loss: 0.3695 - mae: 0.7352 - val_loss: 0.3049 - val_mae: 0.6624 - 5s/epoch - 20ms/step\n",
            "Epoch 141/200\n",
            "265/265 - 6s - loss: 0.3695 - mae: 0.7348 - val_loss: 0.3047 - val_mae: 0.6622 - 6s/epoch - 21ms/step\n",
            "Epoch 142/200\n",
            "265/265 - 5s - loss: 0.3704 - mae: 0.7358 - val_loss: 0.3047 - val_mae: 0.6622 - 5s/epoch - 21ms/step\n",
            "Epoch 143/200\n",
            "265/265 - 6s - loss: 0.3687 - mae: 0.7335 - val_loss: 0.3044 - val_mae: 0.6618 - 6s/epoch - 22ms/step\n",
            "Epoch 144/200\n",
            "265/265 - 5s - loss: 0.3696 - mae: 0.7347 - val_loss: 0.3044 - val_mae: 0.6618 - 5s/epoch - 20ms/step\n",
            "Epoch 145/200\n",
            "265/265 - 6s - loss: 0.3695 - mae: 0.7352 - val_loss: 0.3042 - val_mae: 0.6613 - 6s/epoch - 21ms/step\n",
            "Epoch 146/200\n",
            "265/265 - 6s - loss: 0.3694 - mae: 0.7342 - val_loss: 0.3042 - val_mae: 0.6616 - 6s/epoch - 21ms/step\n",
            "Epoch 147/200\n",
            "265/265 - 5s - loss: 0.3704 - mae: 0.7354 - val_loss: 0.3041 - val_mae: 0.6613 - 5s/epoch - 21ms/step\n",
            "Epoch 148/200\n",
            "265/265 - 5s - loss: 0.3696 - mae: 0.7346 - val_loss: 0.3040 - val_mae: 0.6615 - 5s/epoch - 20ms/step\n",
            "Epoch 149/200\n",
            "265/265 - 5s - loss: 0.3689 - mae: 0.7336 - val_loss: 0.3038 - val_mae: 0.6611 - 5s/epoch - 20ms/step\n",
            "Epoch 150/200\n",
            "265/265 - 5s - loss: 0.3692 - mae: 0.7344 - val_loss: 0.3038 - val_mae: 0.6610 - 5s/epoch - 20ms/step\n",
            "Epoch 151/200\n",
            "265/265 - 5s - loss: 0.3683 - mae: 0.7333 - val_loss: 0.3036 - val_mae: 0.6605 - 5s/epoch - 20ms/step\n",
            "Epoch 152/200\n",
            "265/265 - 5s - loss: 0.3683 - mae: 0.7338 - val_loss: 0.3034 - val_mae: 0.6604 - 5s/epoch - 20ms/step\n",
            "Epoch 153/200\n",
            "265/265 - 5s - loss: 0.3686 - mae: 0.7340 - val_loss: 0.3033 - val_mae: 0.6604 - 5s/epoch - 20ms/step\n",
            "Epoch 154/200\n",
            "265/265 - 5s - loss: 0.3689 - mae: 0.7339 - val_loss: 0.3033 - val_mae: 0.6603 - 5s/epoch - 20ms/step\n",
            "Epoch 155/200\n",
            "265/265 - 5s - loss: 0.3682 - mae: 0.7333 - val_loss: 0.3032 - val_mae: 0.6602 - 5s/epoch - 20ms/step\n",
            "Epoch 156/200\n",
            "265/265 - 5s - loss: 0.3693 - mae: 0.7341 - val_loss: 0.3032 - val_mae: 0.6600 - 5s/epoch - 20ms/step\n",
            "Epoch 157/200\n",
            "265/265 - 5s - loss: 0.3679 - mae: 0.7327 - val_loss: 0.3032 - val_mae: 0.6602 - 5s/epoch - 20ms/step\n",
            "Epoch 158/200\n",
            "265/265 - 5s - loss: 0.3692 - mae: 0.7336 - val_loss: 0.3030 - val_mae: 0.6601 - 5s/epoch - 20ms/step\n",
            "Epoch 159/200\n",
            "265/265 - 5s - loss: 0.3682 - mae: 0.7333 - val_loss: 0.3029 - val_mae: 0.6595 - 5s/epoch - 20ms/step\n",
            "Epoch 160/200\n",
            "265/265 - 5s - loss: 0.3679 - mae: 0.7325 - val_loss: 0.3028 - val_mae: 0.6593 - 5s/epoch - 20ms/step\n",
            "Epoch 161/200\n",
            "265/265 - 5s - loss: 0.3685 - mae: 0.7337 - val_loss: 0.3027 - val_mae: 0.6595 - 5s/epoch - 20ms/step\n",
            "Epoch 162/200\n",
            "265/265 - 5s - loss: 0.3682 - mae: 0.7328 - val_loss: 0.3026 - val_mae: 0.6593 - 5s/epoch - 20ms/step\n",
            "Epoch 163/200\n",
            "265/265 - 5s - loss: 0.3684 - mae: 0.7331 - val_loss: 0.3025 - val_mae: 0.6594 - 5s/epoch - 20ms/step\n",
            "Epoch 164/200\n",
            "265/265 - 5s - loss: 0.3682 - mae: 0.7327 - val_loss: 0.3025 - val_mae: 0.6592 - 5s/epoch - 20ms/step\n",
            "Epoch 165/200\n",
            "265/265 - 5s - loss: 0.3681 - mae: 0.7330 - val_loss: 0.3024 - val_mae: 0.6592 - 5s/epoch - 21ms/step\n",
            "Epoch 166/200\n",
            "265/265 - 5s - loss: 0.3679 - mae: 0.7327 - val_loss: 0.3022 - val_mae: 0.6589 - 5s/epoch - 21ms/step\n",
            "Epoch 167/200\n",
            "265/265 - 5s - loss: 0.3681 - mae: 0.7328 - val_loss: 0.3021 - val_mae: 0.6587 - 5s/epoch - 20ms/step\n",
            "Epoch 168/200\n",
            "265/265 - 5s - loss: 0.3685 - mae: 0.7334 - val_loss: 0.3019 - val_mae: 0.6582 - 5s/epoch - 20ms/step\n",
            "Epoch 169/200\n",
            "265/265 - 5s - loss: 0.3679 - mae: 0.7324 - val_loss: 0.3019 - val_mae: 0.6584 - 5s/epoch - 20ms/step\n",
            "Epoch 170/200\n",
            "265/265 - 5s - loss: 0.3667 - mae: 0.7309 - val_loss: 0.3018 - val_mae: 0.6584 - 5s/epoch - 20ms/step\n",
            "Epoch 171/200\n",
            "265/265 - 5s - loss: 0.3687 - mae: 0.7335 - val_loss: 0.3016 - val_mae: 0.6581 - 5s/epoch - 20ms/step\n",
            "Epoch 172/200\n",
            "265/265 - 6s - loss: 0.3675 - mae: 0.7318 - val_loss: 0.3014 - val_mae: 0.6575 - 6s/epoch - 23ms/step\n",
            "Epoch 173/200\n",
            "265/265 - 5s - loss: 0.3680 - mae: 0.7319 - val_loss: 0.3014 - val_mae: 0.6578 - 5s/epoch - 20ms/step\n",
            "Epoch 174/200\n",
            "265/265 - 5s - loss: 0.3679 - mae: 0.7328 - val_loss: 0.3014 - val_mae: 0.6578 - 5s/epoch - 21ms/step\n",
            "Epoch 175/200\n",
            "265/265 - 5s - loss: 0.3678 - mae: 0.7325 - val_loss: 0.3014 - val_mae: 0.6579 - 5s/epoch - 20ms/step\n",
            "Epoch 176/200\n",
            "265/265 - 5s - loss: 0.3675 - mae: 0.7318 - val_loss: 0.3012 - val_mae: 0.6576 - 5s/epoch - 20ms/step\n",
            "Epoch 177/200\n",
            "265/265 - 5s - loss: 0.3672 - mae: 0.7312 - val_loss: 0.3011 - val_mae: 0.6573 - 5s/epoch - 20ms/step\n",
            "Epoch 178/200\n",
            "265/265 - 5s - loss: 0.3674 - mae: 0.7320 - val_loss: 0.3010 - val_mae: 0.6571 - 5s/epoch - 20ms/step\n",
            "Epoch 179/200\n",
            "265/265 - 5s - loss: 0.3662 - mae: 0.7300 - val_loss: 0.3009 - val_mae: 0.6573 - 5s/epoch - 20ms/step\n",
            "Epoch 180/200\n",
            "265/265 - 5s - loss: 0.3674 - mae: 0.7318 - val_loss: 0.3008 - val_mae: 0.6568 - 5s/epoch - 20ms/step\n",
            "Epoch 181/200\n",
            "265/265 - 5s - loss: 0.3674 - mae: 0.7311 - val_loss: 0.3007 - val_mae: 0.6569 - 5s/epoch - 20ms/step\n",
            "Epoch 182/200\n",
            "265/265 - 5s - loss: 0.3669 - mae: 0.7306 - val_loss: 0.3005 - val_mae: 0.6564 - 5s/epoch - 20ms/step\n",
            "Epoch 183/200\n",
            "265/265 - 6s - loss: 0.3662 - mae: 0.7301 - val_loss: 0.3004 - val_mae: 0.6563 - 6s/epoch - 21ms/step\n",
            "Epoch 184/200\n",
            "265/265 - 5s - loss: 0.3669 - mae: 0.7311 - val_loss: 0.3004 - val_mae: 0.6566 - 5s/epoch - 20ms/step\n",
            "Epoch 185/200\n",
            "265/265 - 5s - loss: 0.3674 - mae: 0.7318 - val_loss: 0.3003 - val_mae: 0.6565 - 5s/epoch - 20ms/step\n",
            "Epoch 186/200\n",
            "265/265 - 5s - loss: 0.3669 - mae: 0.7312 - val_loss: 0.3002 - val_mae: 0.6559 - 5s/epoch - 20ms/step\n",
            "Epoch 187/200\n",
            "265/265 - 5s - loss: 0.3662 - mae: 0.7302 - val_loss: 0.3000 - val_mae: 0.6554 - 5s/epoch - 21ms/step\n",
            "Epoch 188/200\n",
            "265/265 - 5s - loss: 0.3663 - mae: 0.7296 - val_loss: 0.2999 - val_mae: 0.6553 - 5s/epoch - 20ms/step\n",
            "Epoch 189/200\n",
            "265/265 - 5s - loss: 0.3654 - mae: 0.7286 - val_loss: 0.2998 - val_mae: 0.6557 - 5s/epoch - 20ms/step\n",
            "Epoch 190/200\n",
            "265/265 - 5s - loss: 0.3662 - mae: 0.7297 - val_loss: 0.2997 - val_mae: 0.6554 - 5s/epoch - 20ms/step\n",
            "Epoch 191/200\n",
            "265/265 - 5s - loss: 0.3661 - mae: 0.7301 - val_loss: 0.2995 - val_mae: 0.6555 - 5s/epoch - 20ms/step\n",
            "Epoch 192/200\n",
            "265/265 - 5s - loss: 0.3658 - mae: 0.7290 - val_loss: 0.2992 - val_mae: 0.6546 - 5s/epoch - 21ms/step\n",
            "Epoch 193/200\n",
            "265/265 - 6s - loss: 0.3661 - mae: 0.7298 - val_loss: 0.2992 - val_mae: 0.6547 - 6s/epoch - 24ms/step\n",
            "Epoch 194/200\n",
            "265/265 - 5s - loss: 0.3648 - mae: 0.7276 - val_loss: 0.2991 - val_mae: 0.6545 - 5s/epoch - 20ms/step\n",
            "Epoch 195/200\n",
            "265/265 - 5s - loss: 0.3661 - mae: 0.7296 - val_loss: 0.2991 - val_mae: 0.6546 - 5s/epoch - 21ms/step\n",
            "Epoch 196/200\n",
            "265/265 - 5s - loss: 0.3656 - mae: 0.7289 - val_loss: 0.2990 - val_mae: 0.6548 - 5s/epoch - 20ms/step\n",
            "Epoch 197/200\n",
            "265/265 - 5s - loss: 0.3664 - mae: 0.7306 - val_loss: 0.2989 - val_mae: 0.6543 - 5s/epoch - 20ms/step\n",
            "Epoch 198/200\n",
            "265/265 - 5s - loss: 0.3658 - mae: 0.7293 - val_loss: 0.2989 - val_mae: 0.6541 - 5s/epoch - 20ms/step\n",
            "Epoch 199/200\n",
            "265/265 - 5s - loss: 0.3657 - mae: 0.7289 - val_loss: 0.2989 - val_mae: 0.6546 - 5s/epoch - 20ms/step\n",
            "Epoch 200/200\n",
            "265/265 - 5s - loss: 0.3652 - mae: 0.7286 - val_loss: 0.2988 - val_mae: 0.6540 - 5s/epoch - 20ms/step\n"
          ]
        }
      ]
    },
    {
      "cell_type": "code",
      "source": [
        "# Membuat plot akurasi dari model\n",
        "\n",
        "import matplotlib.pyplot as plt\n",
        "\n",
        "plt.plot(riwayat_training_model.history['mae'])\n",
        "plt.plot(riwayat_training_model.history['val_mae'])\n",
        "plt.title('MAE Model')\n",
        "plt.ylabel('mae')\n",
        "plt.xlabel('epoch ke-')\n",
        "plt.legend(['train', 'test'], loc = 'upper right')\n",
        "plt.show()"
      ],
      "metadata": {
        "colab": {
          "base_uri": "https://localhost:8080/",
          "height": 295
        },
        "id": "CeeHd7p9zxA6",
        "outputId": "274c5950-32cd-49c6-e175-23d30f036f38"
      },
      "execution_count": 110,
      "outputs": [
        {
          "output_type": "display_data",
          "data": {
            "text/plain": [
              "<Figure size 432x288 with 1 Axes>"
            ],
            "image/png": "[encoded data removed]"
          },
          "metadata": {
            "needs_background": "light"
          }
        }
      ]
    },
    {
      "cell_type": "code",
      "source": [
        "# Membuat plot loss dari model\n",
        "\n",
        "import matplotlib.pyplot as plt\n",
        "\n",
        "plt.plot(riwayat_training_model.history['loss'])\n",
        "plt.plot(riwayat_training_model.history['val_loss'])\n",
        "plt.title('Loss Model')\n",
        "plt.ylabel('loss')\n",
        "plt.xlabel('epoch ke-')\n",
        "plt.legend(['train', 'test'], loc = 'upper right')\n",
        "plt.show()"
      ],
      "metadata": {
        "colab": {
          "base_uri": "https://localhost:8080/",
          "height": 295
        },
        "id": "0fWjEl2GzTs-",
        "outputId": "3a69ef99-17bf-42b6-f372-8c1d053db7dd"
      },
      "execution_count": 111,
      "outputs": [
        {
          "output_type": "display_data",
          "data": {
            "text/plain": [
              "<Figure size 432x288 with 1 Axes>"
            ],
            "image/png": "[encoded data removed]"
          },
          "metadata": {
            "needs_background": "light"
          }
        }
      ]
    },
    {
      "cell_type": "code",
      "source": [],
      "metadata": {
        "id": "4zS4TUplCYU9"
      },
      "execution_count": null,
      "outputs": []
    }
  ]
}